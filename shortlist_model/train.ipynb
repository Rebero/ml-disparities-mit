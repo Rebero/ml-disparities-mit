{
 "cells": [
  {
   "cell_type": "code",
   "execution_count": 1,
   "metadata": {},
   "outputs": [],
   "source": [
    "import simpletransformers\n",
    "from simpletransformers.classification import ClassificationModel, ClassificationArgs\n",
    "\n",
    "import pandas as pd\n",
    "import torch\n",
    "import logging\n",
    "from sklearn.metrics import accuracy_score, classification_report, confusion_matrix\n",
    "from sklearn.model_selection import train_test_split, StratifiedShuffleSplit\n",
    "import logging \n",
    "import os\n",
    "os.environ['TF_CPP_MIN_LOG_LEVEL'] = '3'\n",
    "\n",
    "X_train = pd.read_csv(\"./data/training/wo_Meta/preprocessed/X_train.csv\")\n",
    "y_train = pd.read_csv(\"./data/training/wo_Meta/preprocessed/y_train.csv\")\n",
    "\n",
    "X_test = pd.read_csv(\"./data/training/wo_Meta/preprocessed/X_test.csv\")\n",
    "y_test = pd.read_csv(\"./data/training/wo_Meta/preprocessed/y_test.csv\")\n",
    "\n",
    "X_valid = pd.read_csv(\"./data/training/wo_Meta/preprocessed/X_valid.csv\")\n",
    "y_valid = pd.read_csv(\"./data/training/wo_Meta/preprocessed/y_valid.csv\")\n",
    "\n",
    "X_train_add = pd.read_csv(\"./data/training/wo_Meta/preprocessed/additional/X_train.csv\")\n",
    "y_train_add = pd.read_csv(\"./data/training/wo_Meta/preprocessed/additional/y_train.csv\")\n",
    "\n",
    "X_test_add = pd.read_csv(\"./data/training/wo_Meta/preprocessed/additional/X_test.csv\")\n",
    "y_test_add = pd.read_csv(\"./data/training/wo_Meta/preprocessed/additional/y_test.csv\")\n",
    "\n",
    "\n",
    "df_train = X_train\n",
    "df_train[\"label\"] = y_train\n",
    "df_test = X_test\n",
    "df_test[\"label\"] = y_test\n",
    "df_valid = X_valid\n",
    "df_valid[\"label\"] = y_valid\n",
    "\n",
    "df_train_add = X_train_add\n",
    "df_train_add[\"label\"] = y_train_add\n",
    "df_test_add = X_test_add\n",
    "df_test_add[\"label\"] = y_test_add\n",
    "\n",
    "\n",
    "df_valid.drop(columns=[\"DOI\"], inplace=True)\n",
    "df_train.drop(columns=[\"DOI\"], inplace=True)"
   ]
  },
  {
   "cell_type": "code",
   "execution_count": null,
   "metadata": {},
   "outputs": [
    {
     "name": "stderr",
     "output_type": "stream",
     "text": [
      "Failed to query for notebook name, you can set it manually with the WANDB_NOTEBOOK_NAME environment variable\n",
      "\u001b[34m\u001b[1mwandb\u001b[0m: You can find your API key in your browser here: https://wandb.ai/authorize\n"
     ]
    },
    {
     "name": "stdin",
     "output_type": "stream",
     "text": [
      "\u001b[34m\u001b[1mwandb\u001b[0m: Paste an API key from your profile and hit enter:  ········································\n"
     ]
    },
    {
     "name": "stderr",
     "output_type": "stream",
     "text": [
      "\u001b[34m\u001b[1mwandb\u001b[0m: Appending key for api.wandb.ai to your netrc file: /root/.netrc\n"
     ]
    },
    {
     "name": "stdout",
     "output_type": "stream",
     "text": [
      "Create sweep with ID: 6fq9dgg5\n",
      "Sweep URL: https://wandb.ai/eber/nlp-0121/sweeps/6fq9dgg5\n"
     ]
    }
   ],
   "source": [
    "import wandb\n",
    "wandb.login()\n",
    "\n",
    "sweep_config = {\n",
    "    'method': 'random', #grid, random, bayes\n",
    "    'metric': {\n",
    "      'name': 'eval_loss',\n",
    "      'goal': 'minimize'   \n",
    "    },\n",
    "    'parameters': {\n",
    "        'learning_rate': {\n",
    "            'values': [ 5e-5, 4e-5, 3e-5]\n",
    "        },\n",
    "        #'epochs':{\n",
    "             #'values':[3,4,5,6,7,8,9,10,11,12,13,14,15,20,25,30]\n",
    "        #},\n",
    "        'train_batch_size': {\n",
    "            'values':[8,16,32,64]\n",
    "        },\n",
    "        'eval_batch_size': {\n",
    "            'values':[4,8,16]\n",
    "        }\n",
    "    }\n",
    "}\n",
    "\n",
    "sweep_id = wandb.sweep(sweep_config,project=\"nlp-0121\")"
   ]
  },
  {
   "cell_type": "code",
   "execution_count": null,
   "metadata": {},
   "outputs": [
    {
     "name": "stderr",
     "output_type": "stream",
     "text": [
      "\u001b[34m\u001b[1mwandb\u001b[0m: Agent Starting Run: w1d16dg9 with config:\n",
      "\u001b[34m\u001b[1mwandb\u001b[0m: \teval_batch_size: 8\n",
      "\u001b[34m\u001b[1mwandb\u001b[0m: \tlearning_rate: 4e-05\n",
      "\u001b[34m\u001b[1mwandb\u001b[0m: \ttrain_batch_size: 16\n",
      "Failed to query for notebook name, you can set it manually with the WANDB_NOTEBOOK_NAME environment variable\n",
      "\u001b[34m\u001b[1mwandb\u001b[0m: Currently logged in as: \u001b[33meber\u001b[0m (use `wandb login --relogin` to force relogin)\n"
     ]
    },
    {
     "data": {
      "text/html": [
       "\n",
       "                Tracking run with wandb version 0.10.13<br/>\n",
       "                Syncing run <strong style=\"color:#cdcd00\">sandy-sweep-1</strong> to <a href=\"https://wandb.ai\" target=\"_blank\">Weights & Biases</a> <a href=\"https://docs.wandb.com/integrations/jupyter.html\" target=\"_blank\">(Documentation)</a>.<br/>\n",
       "                Project page: <a href=\"https://wandb.ai/eber/nlp-0121\" target=\"_blank\">https://wandb.ai/eber/nlp-0121</a><br/>\n",
       "                Sweep page: <a href=\"https://wandb.ai/eber/nlp-0121/sweeps/6fq9dgg5\" target=\"_blank\">https://wandb.ai/eber/nlp-0121/sweeps/6fq9dgg5</a><br/>\n",
       "Run page: <a href=\"https://wandb.ai/eber/nlp-0121/runs/w1d16dg9\" target=\"_blank\">https://wandb.ai/eber/nlp-0121/runs/w1d16dg9</a><br/>\n",
       "                Run data is saved locally in <code>/home/code-base/ml-disparities-mit/wandb/run-20210112_215206-w1d16dg9</code><br/><br/>\n",
       "            "
      ],
      "text/plain": [
       "<IPython.core.display.HTML object>"
      ]
     },
     "metadata": {},
     "output_type": "display_data"
    },
    {
     "data": {
      "application/vnd.jupyter.widget-view+json": {
       "model_id": "aeae367ecd8e43b1972a9aa599978418",
       "version_major": 2,
       "version_minor": 0
      },
      "text/plain": [
       "HBox(children=(HTML(value='Downloading'), FloatProgress(value=0.0, max=433.0), HTML(value='')))"
      ]
     },
     "metadata": {},
     "output_type": "display_data"
    },
    {
     "name": "stdout",
     "output_type": "stream",
     "text": [
      "\n"
     ]
    },
    {
     "data": {
      "application/vnd.jupyter.widget-view+json": {
       "model_id": "32af0d215942472abf2c22dfdf764c5c",
       "version_major": 2,
       "version_minor": 0
      },
      "text/plain": [
       "HBox(children=(HTML(value='Downloading'), FloatProgress(value=0.0, max=435780013.0), HTML(value='')))"
      ]
     },
     "metadata": {},
     "output_type": "display_data"
    },
    {
     "name": "stdout",
     "output_type": "stream",
     "text": [
      "\n"
     ]
    },
    {
     "name": "stderr",
     "output_type": "stream",
     "text": [
      "Some weights of the model checkpoint at monologg/biobert_v1.1_pubmed were not used when initializing BertForSequenceClassification: ['cls.predictions.bias', 'cls.predictions.transform.dense.weight', 'cls.predictions.transform.dense.bias', 'cls.predictions.transform.LayerNorm.weight', 'cls.predictions.transform.LayerNorm.bias', 'cls.predictions.decoder.weight', 'cls.seq_relationship.weight', 'cls.seq_relationship.bias']\n",
      "- This IS expected if you are initializing BertForSequenceClassification from the checkpoint of a model trained on another task or with another architecture (e.g. initializing a BertForSequenceClassification model from a BertForPreTraining model).\n",
      "- This IS NOT expected if you are initializing BertForSequenceClassification from the checkpoint of a model that you expect to be exactly identical (initializing a BertForSequenceClassification model from a BertForSequenceClassification model).\n",
      "Some weights of BertForSequenceClassification were not initialized from the model checkpoint at monologg/biobert_v1.1_pubmed and are newly initialized: ['classifier.weight', 'classifier.bias']\n",
      "You should probably TRAIN this model on a down-stream task to be able to use it for predictions and inference.\n"
     ]
    },
    {
     "data": {
      "application/vnd.jupyter.widget-view+json": {
       "model_id": "22cb598314f04564b2114ebab8df1d8f",
       "version_major": 2,
       "version_minor": 0
      },
      "text/plain": [
       "HBox(children=(HTML(value='Downloading'), FloatProgress(value=0.0, max=213450.0), HTML(value='')))"
      ]
     },
     "metadata": {},
     "output_type": "display_data"
    },
    {
     "name": "stdout",
     "output_type": "stream",
     "text": [
      "\n"
     ]
    },
    {
     "data": {
      "application/vnd.jupyter.widget-view+json": {
       "model_id": "305b717f3a6a4232a4f7f7390ae9eb41",
       "version_major": 2,
       "version_minor": 0
      },
      "text/plain": [
       "HBox(children=(HTML(value='Downloading'), FloatProgress(value=0.0, max=112.0), HTML(value='')))"
      ]
     },
     "metadata": {},
     "output_type": "display_data"
    },
    {
     "name": "stdout",
     "output_type": "stream",
     "text": [
      "\n"
     ]
    },
    {
     "data": {
      "application/vnd.jupyter.widget-view+json": {
       "model_id": "e5394e273f774054ac85133f30e9c054",
       "version_major": 2,
       "version_minor": 0
      },
      "text/plain": [
       "HBox(children=(HTML(value='Downloading'), FloatProgress(value=0.0, max=51.0), HTML(value='')))"
      ]
     },
     "metadata": {},
     "output_type": "display_data"
    },
    {
     "name": "stdout",
     "output_type": "stream",
     "text": [
      "\n"
     ]
    },
    {
     "name": "stderr",
     "output_type": "stream",
     "text": [
      "/opt/conda/lib/python3.6/site-packages/simpletransformers/classification/classification_model.py:395: UserWarning: Dataframe headers not specified. Falling back to using column 0 as text and column 1 as labels.\n",
      "  \"Dataframe headers not specified. Falling back to using column 0 as text and column 1 as labels.\"\n"
     ]
    },
    {
     "data": {
      "application/vnd.jupyter.widget-view+json": {
       "model_id": "fcb66840efc247559e7c958de69141d1",
       "version_major": 2,
       "version_minor": 0
      },
      "text/plain": [
       "HBox(children=(HTML(value=''), FloatProgress(value=0.0, max=646.0), HTML(value='')))"
      ]
     },
     "metadata": {},
     "output_type": "display_data"
    },
    {
     "name": "stdout",
     "output_type": "stream",
     "text": [
      "\n"
     ]
    },
    {
     "data": {
      "application/vnd.jupyter.widget-view+json": {
       "model_id": "f59d91b807504582b30b8306922e92af",
       "version_major": 2,
       "version_minor": 0
      },
      "text/plain": [
       "HBox(children=(HTML(value='Epoch'), FloatProgress(value=0.0, max=40.0), HTML(value='')))"
      ]
     },
     "metadata": {},
     "output_type": "display_data"
    },
    {
     "data": {
      "application/vnd.jupyter.widget-view+json": {
       "model_id": "31cebd233654417ea78135f2641f504b",
       "version_major": 2,
       "version_minor": 0
      },
      "text/plain": [
       "HBox(children=(HTML(value='Running Epoch 0 of 40'), FloatProgress(value=0.0, max=41.0), HTML(value='')))"
      ]
     },
     "metadata": {},
     "output_type": "display_data"
    },
    {
     "name": "stdout",
     "output_type": "stream",
     "text": [
      "\n"
     ]
    },
    {
     "name": "stderr",
     "output_type": "stream",
     "text": [
      "/opt/conda/lib/python3.6/site-packages/torch/optim/lr_scheduler.py:216: UserWarning: Please also save or load the state of the optimizer when saving or loading the scheduler.\n",
      "  warnings.warn(SAVE_STATE_WARNING, UserWarning)\n",
      "/opt/conda/lib/python3.6/site-packages/simpletransformers/classification/classification_model.py:975: UserWarning: Dataframe headers not specified. Falling back to using column 0 as text and column 1 as labels.\n",
      "  \"Dataframe headers not specified. Falling back to using column 0 as text and column 1 as labels.\"\n"
     ]
    },
    {
     "data": {
      "application/vnd.jupyter.widget-view+json": {
       "model_id": "52c47899cc694da0bc9619b066c66e90",
       "version_major": 2,
       "version_minor": 0
      },
      "text/plain": [
       "HBox(children=(HTML(value='Running Epoch 1 of 40'), FloatProgress(value=0.0, max=41.0), HTML(value='')))"
      ]
     },
     "metadata": {},
     "output_type": "display_data"
    }
   ],
   "source": [
    "def train():\n",
    "    wandb.init()\n",
    "    \n",
    "    # Training arguments\n",
    "    train_args = {\n",
    "        'num_train_epochs' : 30,\n",
    "        'evaluate_during_training': True,\n",
    "        'save_eval_checkpoints': False,\n",
    "        'overwrite_output_dir': True,\n",
    "        'use_multiprocessing' : True,\n",
    "        'reprocess_input_data' : True,\n",
    "        'fp16': False,\n",
    "        'use_early_stopping' : True,\n",
    "        'early_stopping_delta' : 0.1,\n",
    "        'early_stopping_metric' : \"mcc\",\n",
    "        'early_stopping_metric_minimize' : False,\n",
    "        'early_stopping_patience' : 5,\n",
    "        'train_batch_size': wandb.config.train_batch_size,\n",
    "        'eval_batch_size': wandb.config.eval_batch_size,\n",
    "        'learning_rate': wandb.config.learning_rate,\n",
    "        'wandb_project': \"nlp-0121\"\n",
    "    }\n",
    "    \n",
    "    model = simpletransformers.classification.ClassificationModel(\"bert\", \"microsoft/BiomedNLP-PubMedBERT-base-uncased-abstract-fulltext\", args=train_args, use_cuda=True)\n",
    "\n",
    "    # Train the model\n",
    "    model.train_model(df_train, eval_df = df_valid)\n",
    "    #wandb.save('model.h5')\n",
    "    PATH = wandb.run._run_id + '.h5'\n",
    "    torch.save(model, PATH)\n",
    "    \n",
    "    # Evaluate the model\n",
    "    model.eval_model(df_test)\n",
    "    #wandb.save('model.h5')\n",
    "\n",
    "wandb.agent(sweep_id,function=train)"
   ]
  }
 ],
 "metadata": {
  "environment": {
   "name": "common-cu110.m58",
   "type": "gcloud",
   "uri": "gcr.io/deeplearning-platform-release/base-cu110:m58"
  },
  "kernelspec": {
   "display_name": "Python 3",
   "language": "python",
   "name": "python3"
  },
  "language_info": {
   "codemirror_mode": {
    "name": "ipython",
    "version": 3
   },
   "file_extension": ".py",
   "mimetype": "text/x-python",
   "name": "python",
   "nbconvert_exporter": "python",
   "pygments_lexer": "ipython3",
   "version": "3.8.5-final"
  }
 },
 "nbformat": 4,
 "nbformat_minor": 4
}