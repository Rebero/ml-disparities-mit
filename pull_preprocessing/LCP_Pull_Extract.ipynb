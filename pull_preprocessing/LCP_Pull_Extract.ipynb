{
  "nbformat": 4,
  "nbformat_minor": 0,
  "metadata": {
    "colab": {
      "name": "LCP_Pull_Extract.ipynb",
      "provenance": [],
      "authorship_tag": "ABX9TyPR/+gjZ4KL4B+S9N6M6Lws"
    },
    "kernelspec": {
      "name": "python3",
      "display_name": "Python 3"
    },
    "language_info": {
      "name": "python"
    }
  },
  "cells": [
    {
      "cell_type": "code",
      "metadata": {
        "id": "q9gwfQKjHHOF"
      },
      "source": [
        ""
      ],
      "execution_count": null,
      "outputs": []
    }
  ]
}