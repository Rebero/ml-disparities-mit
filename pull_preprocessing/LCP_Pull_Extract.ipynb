{
  "nbformat": 4,
  "nbformat_minor": 0,
  "metadata": {
    "colab": {
      "name": "LCP_Pull_Extract.ipynb",
      "provenance": [],
      "collapsed_sections": [],
      "authorship_tag": "ABX9TyOxBNoAtD63aUjzscL3xxxi",
      "include_colab_link": true
    },
    "kernelspec": {
      "name": "python3",
      "display_name": "Python 3"
    },
    "language_info": {
      "name": "python"
    }
  },
  "cells": [
    {
      "cell_type": "markdown",
      "metadata": {
        "id": "view-in-github",
        "colab_type": "text"
      },
      "source": [
        "<a href=\"https://colab.research.google.com/github/atjoelpark/ml-disparities-mit/blob/master/pull_preprocessing/LCP_Pull_Extract.ipynb\" target=\"_parent\"><img src=\"https://colab.research.google.com/assets/colab-badge.svg\" alt=\"Open In Colab\"/></a>"
      ]
    },
    {
      "cell_type": "markdown",
      "metadata": {
        "id": "9ou01sFNHqII"
      },
      "source": [
        "# Pull and Extraction of LCP PMIDs\n",
        "\n",
        "This notebook provides documentation and code for pulling metadata for a list of PMID IDs.\n",
        "\n",
        "Reference: https://lcp.mit.edu/publications"
      ]
    },
    {
      "cell_type": "code",
      "metadata": {
        "id": "D5F68NWGnNJT"
      },
      "source": [
        "# Customization\n",
        "# Please enter in the pathway in your Google Drive (after /content/drive/) that you would like your files to be saved into\n",
        "# Users will only need to modify this code then run all the cells in order\n",
        "google_drive_url = \"\""
      ],
      "execution_count": 119,
      "outputs": []
    },
    {
      "cell_type": "markdown",
      "metadata": {
        "id": "5i7Z0eLsnKp3"
      },
      "source": [
        "# Libraries and Mounting Google Drive"
      ]
    },
    {
      "cell_type": "code",
      "metadata": {
        "id": "q9gwfQKjHHOF"
      },
      "source": [
        "# Importing libraries\n",
        "import numpy as np \n",
        "import pandas as pd \n",
        "import re \n",
        "import requests\n",
        "from bs4 import BeautifulSoup"
      ],
      "execution_count": 120,
      "outputs": []
    },
    {
      "cell_type": "code",
      "metadata": {
        "colab": {
          "base_uri": "https://localhost:8080/"
        },
        "id": "h2CMbEmxcI52",
        "outputId": "de884f5b-1817-48a5-f8de-3dde0da406b0"
      },
      "source": [
        "# Mounting Google Drive if using Google Drive\n",
        "from google.colab import drive\n",
        "drive.mount(f'/content/drive/{google_drive_url}')"
      ],
      "execution_count": 3,
      "outputs": [
        {
          "output_type": "stream",
          "text": [
            "Mounted at /content/drive/\n"
          ],
          "name": "stdout"
        }
      ]
    },
    {
      "cell_type": "markdown",
      "metadata": {
        "id": "KHftg_fXkRLd"
      },
      "source": [
        "## Defining Functions"
      ]
    },
    {
      "cell_type": "code",
      "metadata": {
        "id": "qI4WyW-wlVY0"
      },
      "source": [
        "# Installing E-utilities Entrez Direct\n",
        "def e_utilities_install():\n",
        "  \"\"\"\n",
        "  Installs e_utilities\n",
        "  Reference: https://www.ncbi.nlm.nih.gov/books/NBK179288/\n",
        "  \"\"\"\n",
        "  !curl -L https://www.ncbi.nlm.nih.gov/books/NBK179288/bin/install-edirect.sh > install-edirect.sh\n",
        "  !bash install-edirect.sh -y\n",
        "  !echo 'export PATH=\\$PATH:\\$HOME/edirect' >> $HOME/.bash_profile\n",
        "  !rm install-edirect.sh"
      ],
      "execution_count": 121,
      "outputs": []
    },
    {
      "cell_type": "code",
      "metadata": {
        "id": "WQ0eaIJLcmFa"
      },
      "source": [
        "# Setting development environment for Selenium\n",
        "def setup_dev_environment():\n",
        "  \"\"\"\n",
        "  Installs chromium, driver and selenium\n",
        "  Sets options to be headless\n",
        "  Opens a website and prepares Selenium for use\n",
        "  Returns: webdriver\n",
        "  \"\"\"\n",
        "\n",
        "  # install chromium, its driver, and selenium\n",
        "  !apt update\n",
        "  !apt install chromium-chromedriver\n",
        "  !pip install selenium\n",
        "  !pip install webdriver_manager\n",
        "  # set options to be headless, ..\n",
        "  from selenium import webdriver\n",
        "  options = webdriver.ChromeOptions()\n",
        "  options.add_argument('--headless')\n",
        "  options.add_argument('--no-sandbox')\n",
        "  options.add_argument('--disable-dev-shm-usage')\n",
        "  # open it, go to a website, and get results\n",
        "  print(\"Chromium, Driver and Selenium successfully started....\")\n",
        "  return webdriver.Chrome(options=options)"
      ],
      "execution_count": 122,
      "outputs": []
    },
    {
      "cell_type": "code",
      "metadata": {
        "id": "QG8QXqbkYL8G"
      },
      "source": [
        "# Defining Functions\n",
        "def pull_pmid(year: int, wb) -> list:\n",
        "  \"\"\" \n",
        "  This takes in a year as an argument and reads the PMID IDs for each year within https://lcp.mit.edu/publications\n",
        "\n",
        "  Dependencies: Selenium, chromium-chromedriver, webdriver_manager, re\n",
        "  @param year: This int contains the year to scrape from in https://lcp.mit.edu/publications\n",
        "  @param wb: Passes in the webdriver for Selenium\n",
        "  @return: a list of PMIDs\n",
        "  @raise TypeError: raises an exception\n",
        "  \"\"\"\n",
        "  try:\n",
        "    # Uses Selenium to search by CSS\n",
        "    URL = f'https://lcp.mit.edu/publications#P_{year}'\n",
        "    wd.get(URL)\n",
        "    _links = wd.find_elements_by_css_selector('.bib2xhtml a+ a')\n",
        "\n",
        "    # Initiating an empty PMID list and appends to list with all PMID IDs\n",
        "    _pmid_list = []\n",
        "    for i in _links:\n",
        "      tmp_search = re.findall(r'\\(PMID:.*\\)', i.text)\n",
        "      if tmp_search:\n",
        "        _pmid_list.append(tmp_search)\n",
        "\n",
        "    # Flattends the list\n",
        "    _pmid_list = [item for sublist in _pmid_list for item in sublist]\n",
        "\n",
        "    # Extracts out only integers and removes text and special characters. \n",
        "    # Returns the list\n",
        "    _pmid_list = [int(re.findall(r'\\d+', i)[0]) for i in _pmid_list]\n",
        "    return _pmid_list\n",
        "\n",
        "  except TypeError as e:\n",
        "    print(\"Error raised while pulling PMID...\")\n",
        "    print(e)"
      ],
      "execution_count": 123,
      "outputs": []
    },
    {
      "cell_type": "code",
      "metadata": {
        "id": "IXr5QGofH8XC"
      },
      "source": [
        "# Defining Functions\n",
        "def pull_pmid_metadata(pmid: list) -> pd.DataFrame:\n",
        "  \"\"\"\n",
        "  This is dependent on E-utilities. The input parameter is a list of PMIDs.\n",
        "  The output is a Pandas DataFrame with the following columns:\n",
        "\n",
        "  1. PMID\n",
        "  2. PubMed Article Title\n",
        "  3. DateCompleted (Year_Month_Day)\n",
        "  4. Journal Title\n",
        "  5. Publication Date (Year_Month_Day)\n",
        "  6. Abstract\n",
        "  7. Author FirstName_LastName_Affiliation (Note that that three values are\n",
        "  separated by \"_\". If an author has affilitations to multiple institions, the\n",
        "  institutions are separated by the character \"/\".)\n",
        "\n",
        "  @param pmid: Takes a list of PMIDs produced by function pull_pmid\n",
        "  @return: Returns a Pandas DataFrame\n",
        "  @raise keyError: raises an exception\n",
        "  \"\"\"\n",
        "  df = pd.DataFrame(columns=[\"PMID\", \"PubMed_Article_Title\",\n",
        "                             \"Date_Completed\", \"Date_Revised\",\"Journal_Title\",\n",
        "                             \"Publication_Date\", \"Abstract\", \"AuthorFirstName_AuthorLastName_Affiliation\"])\n",
        "  for id, i in enumerate(pmid):\n",
        "    _temp = f'''$HOME/edirect/efetch -db pubmed -id {i} -format xml \\\n",
        "| $HOME/edirect/xtract -pattern PubmedArticle -tab \"|\" -def \"NULL\" -sep \",\" -element MedlineCitation/PMID ArticleTitle \\\n",
        "-block DateCompleted -tab \"|\" -def \"NULL\" -sep \"_\" -element Year,Month,Day \\\n",
        "-block Article -tab \"|\" -def \"NULL\" -sep \"_\" -element Journal/Title \\\n",
        "-subset PubDate -tab \"|\" -def \"NULL\" -sep \"_\" -element Year,Month,Day \\\n",
        "-section Abstract -tab \"|\" -def \"NULL\" -element AbstractText \\\n",
        "-block Author -tab \"/\" -def \"NULL\" -sep \"_\" -element ForeName,LastName,Affiliation'''\n",
        "\n",
        "    _result = !{_temp}\n",
        "    _temp = _result[0].split(\"|\")\n",
        "\n",
        "    print(_temp)\n",
        "    for _count, _value in enumerate(_temp):\n",
        "      #df.iloc[id,_count] = _value\n",
        "      print(_count, _value)\n",
        "\n",
        "  #return df"
      ],
      "execution_count": 170,
      "outputs": []
    },
    {
      "cell_type": "markdown",
      "metadata": {
        "id": "JLhETuQhmGb6"
      },
      "source": [
        "# Main"
      ]
    },
    {
      "cell_type": "code",
      "metadata": {
        "colab": {
          "base_uri": "https://localhost:8080/"
        },
        "id": "yxvNWj7AlMFa",
        "outputId": "3d0956b0-57af-49a5-bf5b-a26915053f98"
      },
      "source": [
        "%%time\n",
        "# Install E-utilities, when prompted \"Would you like to do that automatically now?\" Please select 'y'.\n",
        "e_utilities_install()"
      ],
      "execution_count": 125,
      "outputs": [
        {
          "output_type": "stream",
          "text": [
            "  % Total    % Received % Xferd  Average Speed   Time    Time     Time  Current\n",
            "                                 Dload  Upload   Total   Spent    Left  Speed\n",
            "100   665  100   665    0     0   1722      0 --:--:-- --:--:-- --:--:--  1718\n",
            "\n",
            "Entrez Direct has been successfully downloaded and installed.\n",
            "\n",
            "In order to complete the configuration process, please execute the following:\n",
            "\n",
            "  echo \"source ~/.bash_profile\" >> $HOME/.bashrc\n",
            "\n",
            "or manually edit the PATH variable assignment in your .bash_profile file.\n",
            "\n",
            "Would you like to do that automatically now? [y/N]\n",
            "y\n",
            "OK, done.\n",
            "CPU times: user 118 ms, sys: 37.6 ms, total: 156 ms\n",
            "Wall time: 18.1 s\n"
          ],
          "name": "stdout"
        }
      ]
    },
    {
      "cell_type": "code",
      "metadata": {
        "colab": {
          "base_uri": "https://localhost:8080/"
        },
        "id": "3fxofv-JiCK5",
        "outputId": "b8529f14-d389-49d7-9c47-b8e7f44c4187"
      },
      "source": [
        "%%time \n",
        "# Sets up Web Driver\n",
        "wd = setup_dev_environment()"
      ],
      "execution_count": 126,
      "outputs": [
        {
          "output_type": "stream",
          "text": [
            "\u001b[33m\r0% [Working]\u001b[0m\r            \rHit:1 https://cloud.r-project.org/bin/linux/ubuntu bionic-cran40/ InRelease\n",
            "\u001b[33m\r0% [Connecting to archive.ubuntu.com (91.189.88.152)] [Connecting to security.u\u001b[0m\u001b[33m\r0% [1 InRelease gpgv 3,626 B] [Connecting to archive.ubuntu.com (91.189.88.152)\u001b[0m\r                                                                               \rIgn:2 https://developer.download.nvidia.com/compute/cuda/repos/ubuntu1804/x86_64  InRelease\n",
            "\u001b[33m\r0% [1 InRelease gpgv 3,626 B] [Connecting to archive.ubuntu.com (91.189.88.152)\u001b[0m\r                                                                               \rIgn:3 https://developer.download.nvidia.com/compute/machine-learning/repos/ubuntu1804/x86_64  InRelease\n",
            "\u001b[33m\r0% [1 InRelease gpgv 3,626 B] [Connecting to archive.ubuntu.com (91.189.88.152)\u001b[0m\r                                                                               \rHit:4 https://developer.download.nvidia.com/compute/cuda/repos/ubuntu1804/x86_64  Release\n",
            "\u001b[33m\r0% [1 InRelease gpgv 3,626 B] [Connecting to archive.ubuntu.com (91.189.88.152)\u001b[0m\r                                                                               \rHit:5 https://developer.download.nvidia.com/compute/machine-learning/repos/ubuntu1804/x86_64  Release\n",
            "Get:6 http://security.ubuntu.com/ubuntu bionic-security InRelease [88.7 kB]\n",
            "Hit:7 http://archive.ubuntu.com/ubuntu bionic InRelease\n",
            "Hit:8 http://ppa.launchpad.net/c2d4u.team/c2d4u4.0+/ubuntu bionic InRelease\n",
            "Get:9 http://archive.ubuntu.com/ubuntu bionic-updates InRelease [88.7 kB]\n",
            "Hit:11 http://ppa.launchpad.net/cran/libgit2/ubuntu bionic InRelease\n",
            "Hit:13 http://ppa.launchpad.net/deadsnakes/ppa/ubuntu bionic InRelease\n",
            "Get:14 http://archive.ubuntu.com/ubuntu bionic-backports InRelease [74.6 kB]\n",
            "Hit:15 http://ppa.launchpad.net/graphics-drivers/ppa/ubuntu bionic InRelease\n",
            "Fetched 252 kB in 2s (115 kB/s)\n",
            "Reading package lists... Done\n",
            "Building dependency tree       \n",
            "Reading state information... Done\n",
            "84 packages can be upgraded. Run 'apt list --upgradable' to see them.\n",
            "Reading package lists... Done\n",
            "Building dependency tree       \n",
            "Reading state information... Done\n",
            "chromium-chromedriver is already the newest version (91.0.4472.101-0ubuntu0.18.04.1).\n",
            "0 upgraded, 0 newly installed, 0 to remove and 84 not upgraded.\n",
            "Requirement already satisfied: selenium in /usr/local/lib/python3.7/dist-packages (3.141.0)\n",
            "Requirement already satisfied: urllib3 in /usr/local/lib/python3.7/dist-packages (from selenium) (1.24.3)\n",
            "Requirement already satisfied: webdriver_manager in /usr/local/lib/python3.7/dist-packages (3.4.2)\n",
            "Requirement already satisfied: crayons in /usr/local/lib/python3.7/dist-packages (from webdriver_manager) (0.4.0)\n",
            "Requirement already satisfied: requests in /usr/local/lib/python3.7/dist-packages (from webdriver_manager) (2.23.0)\n",
            "Requirement already satisfied: configparser in /usr/local/lib/python3.7/dist-packages (from webdriver_manager) (5.0.2)\n",
            "Requirement already satisfied: colorama in /usr/local/lib/python3.7/dist-packages (from crayons->webdriver_manager) (0.4.4)\n",
            "Requirement already satisfied: idna<3,>=2.5 in /usr/local/lib/python3.7/dist-packages (from requests->webdriver_manager) (2.10)\n",
            "Requirement already satisfied: certifi>=2017.4.17 in /usr/local/lib/python3.7/dist-packages (from requests->webdriver_manager) (2021.5.30)\n",
            "Requirement already satisfied: urllib3!=1.25.0,!=1.25.1,<1.26,>=1.21.1 in /usr/local/lib/python3.7/dist-packages (from requests->webdriver_manager) (1.24.3)\n",
            "Requirement already satisfied: chardet<4,>=3.0.2 in /usr/local/lib/python3.7/dist-packages (from requests->webdriver_manager) (3.0.4)\n",
            "Chromium, Driver and Selenium successfully started....\n",
            "CPU times: user 141 ms, sys: 53.7 ms, total: 194 ms\n",
            "Wall time: 12.6 s\n"
          ],
          "name": "stdout"
        }
      ]
    },
    {
      "cell_type": "code",
      "metadata": {
        "colab": {
          "base_uri": "https://localhost:8080/"
        },
        "id": "1pkS53hfZ_HD",
        "outputId": "80f3abfa-ae89-4ee2-dab7-bb92e69c50ef"
      },
      "source": [
        "%%time\n",
        "pmid_list_2020 = pull_pmid(2020, wd)"
      ],
      "execution_count": 111,
      "outputs": [
        {
          "output_type": "stream",
          "text": [
            "CPU times: user 653 ms, sys: 21.1 ms, total: 674 ms\n",
            "Wall time: 9.18 s\n"
          ],
          "name": "stdout"
        }
      ]
    },
    {
      "cell_type": "code",
      "metadata": {
        "colab": {
          "base_uri": "https://localhost:8080/"
        },
        "id": "7hIvFCwEoi6N",
        "outputId": "d74367ce-6ae0-4505-e06a-04bce8e8b130"
      },
      "source": [
        "%%time \n",
        "pull_pmid_metadata(pmid_list_2020)"
      ],
      "execution_count": 171,
      "outputs": [
        {
          "output_type": "stream",
          "text": [
            "['32612144', 'Real-world characterization of blood glucose control and insulin use in the intensive care unit.', '2020_12_04', 'Scientific reports', '2020_07_01', 'The heterogeneity of critical illness complicates both clinical trial design and real-world management. This complexity has resulted in conflicting evidence and opinion regarding the optimal management in many intensive care scenarios. Understanding this heterogeneity is essential to tailoring management to individual patients. Hyperglycaemia is one such complication in the intensive care unit (ICU), accompanied by decades of conflicting evidence around management strategies. We hypothesized that analysis of highly-detailed electronic medical record (EMR) data would demonstrate that patients vary widely in their glycaemic response to critical illness and response to insulin therapy. Due to this variability, we believed that hyper- and hypoglycaemia would remain common in ICU care despite standardised approaches to management. We utilized the Medical Information Mart for Intensive Care III v1.4 (MIMIC) database. We identified 19,694 admissions between 2008 and 2012 with available glucose results and insulin administration data. We demonstrate that hyper- and hypoglycaemia are common at the time of admission and remain so 1 week into an ICU admission. Insulin treatment strategies vary significantly, irrespective of blood glucose level or diabetic status. We reveal a tremendous opportunity for EMR data to guide tailored management. Through this work, we have made available a highly-detailed data source for future investigation.', 'Lawrence_Baker_RAND Corporation, Santa Monica, CA, USA./Jason H_Maley_Division of Pulmonary, Critical Care, and Sleep Medicine, Beth Israel Deaconess Medical Center, 330 Brookline Ave., Boston, MA, 02215, USA. jmaley@bidmc.harvard.edu._Center for Healthcare Delivery Science, Beth Israel Deaconess Medical Center, Boston, MA, USA. jmaley@bidmc.harvard.edu._Harvard Medical School, Boston, MA, USA. jmaley@bidmc.harvard.edu./Aldo_Arévalo_MIT Laboratory for Computational Physiology Harvard-MIT Division of Health Sciences and Technology, Cambridge, MA, USA._IDMEC, Instituto Superior Técnico, University of Lisbon, Lisbon, Portugal./Francis_DeMichele_Landmark Health, Huntington Beach, CA, USA./Roselyn_Mateo-Collado_Division of Endocrinology and Metabolism, Rush University Medical Center, Chicago, IL, USA./Stan_Finkelstein_Harvard Medical School, Boston, MA, USA./Leo Anthony_Celi_Division of Pulmonary, Critical Care, and Sleep Medicine, Beth Israel Deaconess Medical Center, 330 Brookline Ave., Boston, MA, 02215, USA._Harvard Medical School, Boston, MA, USA._MIT Laboratory for Computational Physiology Harvard-MIT Division of Health Sciences and Technology, Cambridge, MA, USA.']\n",
            "0 32612144\n",
            "1 Real-world characterization of blood glucose control and insulin use in the intensive care unit.\n",
            "2 2020_12_04\n",
            "3 Scientific reports\n",
            "4 2020_07_01\n",
            "5 The heterogeneity of critical illness complicates both clinical trial design and real-world management. This complexity has resulted in conflicting evidence and opinion regarding the optimal management in many intensive care scenarios. Understanding this heterogeneity is essential to tailoring management to individual patients. Hyperglycaemia is one such complication in the intensive care unit (ICU), accompanied by decades of conflicting evidence around management strategies. We hypothesized that analysis of highly-detailed electronic medical record (EMR) data would demonstrate that patients vary widely in their glycaemic response to critical illness and response to insulin therapy. Due to this variability, we believed that hyper- and hypoglycaemia would remain common in ICU care despite standardised approaches to management. We utilized the Medical Information Mart for Intensive Care III v1.4 (MIMIC) database. We identified 19,694 admissions between 2008 and 2012 with available glucose results and insulin administration data. We demonstrate that hyper- and hypoglycaemia are common at the time of admission and remain so 1 week into an ICU admission. Insulin treatment strategies vary significantly, irrespective of blood glucose level or diabetic status. We reveal a tremendous opportunity for EMR data to guide tailored management. Through this work, we have made available a highly-detailed data source for future investigation.\n",
            "6 Lawrence_Baker_RAND Corporation, Santa Monica, CA, USA./Jason H_Maley_Division of Pulmonary, Critical Care, and Sleep Medicine, Beth Israel Deaconess Medical Center, 330 Brookline Ave., Boston, MA, 02215, USA. jmaley@bidmc.harvard.edu._Center for Healthcare Delivery Science, Beth Israel Deaconess Medical Center, Boston, MA, USA. jmaley@bidmc.harvard.edu._Harvard Medical School, Boston, MA, USA. jmaley@bidmc.harvard.edu./Aldo_Arévalo_MIT Laboratory for Computational Physiology Harvard-MIT Division of Health Sciences and Technology, Cambridge, MA, USA._IDMEC, Instituto Superior Técnico, University of Lisbon, Lisbon, Portugal./Francis_DeMichele_Landmark Health, Huntington Beach, CA, USA./Roselyn_Mateo-Collado_Division of Endocrinology and Metabolism, Rush University Medical Center, Chicago, IL, USA./Stan_Finkelstein_Harvard Medical School, Boston, MA, USA./Leo Anthony_Celi_Division of Pulmonary, Critical Care, and Sleep Medicine, Beth Israel Deaconess Medical Center, 330 Brookline Ave., Boston, MA, 02215, USA._Harvard Medical School, Boston, MA, USA._MIT Laboratory for Computational Physiology Harvard-MIT Division of Health Sciences and Technology, Cambridge, MA, USA.\n",
            "['31948262', 'Temporal Trends in Critical Care Outcomes in U.S. Minority-Serving Hospitals.', '2020_06_22', 'American journal of respiratory and critical care medicine', '2020_03_15', 'Rationale: Whether critical care improvements over the last 10 years extend to all hospitals has not been described.Objectives: To examine the temporal trends of critical care outcomes in minority and non-minority-serving hospitals using an inception cohort of critically ill patients.Measurements and Main Results: Using the Philips Health Care electronic ICU Research Institute Database, we identified minority-serving hospitals as those with an African American or Hispanic ICU census more than twice its regional mean. We examined almost 1.1 million critical illness admissions among 208 ICUs from across the United States admitted between 2006 and 2016. Adjusted hospital mortality (primary) and length of hospitalization (secondary) were the main outcomes. Large pluralities of African American (25%, n = 27,242) and Hispanic individuals (48%, n = 26,743) were cared for in minority-serving hospitals, compared with only 5.2% (n = 42,941) of white individuals. Over the last 10 years, although the risk of critical illness mortality steadily decreased by 2% per year (95% confidence interval [CI], 0.97-0.98) in non-minority-serving hospitals, outcomes within minority-serving hospitals did not improve comparably. This disparity in temporal trends was particularly noticeable among African American individuals, where each additional calendar year was associated with a 3% (95% CI, 0.96-0.97) lower adjusted critical illness mortality within a non-minority-serving hospital, but no change within minority-serving hospitals (hazard ratio, 0.99; 95% CI, 0.97-1.01). Similarly, although ICU and hospital lengths of stay decreased by 0.08 (95% CI, -0.08 to -0.07) and 0.16 (95% CI, -0.16 to -0.15) days per additional calendar year, respectively, in non-minority-serving hospitals, there was little temporal change for African American individuals in minority-serving hospitals.Conclusions: Critically ill African American individuals are disproportionately cared for in minority-serving hospitals, which have shown significantly less improvement than non-minority-serving hospitals over the last 10 years.', 'John_Danziger_Department of Medicine, Beth Israel Deaconess Medical Center, Harvard Medical School, Boston, Massachusetts./Miguel_Ángel Armengol de la Hoz_Cardiovascular Research Center, Harvard Medical School, Massachusetts General Hospital, Boston, Massachusetts._MIT Critical Data, Laboratory for Computational Physiology, Institute for Medical Engineering and Science, Cambridge, Massachusetts._Biomedical Engineering and Telemedicine Group, Biomedical Technology Centre CTB, ETSI Telecomunicación, Universidad Politécnica de Madrid, Madrid, Spain./Wenyuan_Li_Department of Epidemiology, Harvard T.H. Chan School of Public Health, Boston, Massachusetts./Matthieu_Komorowski_Department of Surgery and Cancer, Faculty of Medicine, Imperial College London, United Kingdom._Big Data Analytics Department and._Laboratory for Critical Care Research, Critical Care Department, Hospital Israelita Albert Einstein, São Paulo, Brazil./Rodrigo Octávio_Deliberato_MIT Critical Data, Laboratory for Computational Physiology, Institute for Medical Engineering and Science, Cambridge, Massachusetts._Big Data Analytics Department and._Laboratory for Critical Care Research, Critical Care Department, Hospital Israelita Albert Einstein, São Paulo, Brazil./Barret N M_Rush_Department of Critical Care Medicine, University of British Columbia, Vancouver, British Columbia, Canada./Kenneth J_Mukamal_Department of Medicine, Beth Israel Deaconess Medical Center, Harvard Medical School, Boston, Massachusetts./Leo_Celi_Department of Medicine, Beth Israel Deaconess Medical Center, Harvard Medical School, Boston, Massachusetts._MIT Critical Data, Laboratory for Computational Physiology, Institute for Medical Engineering and Science, Cambridge, Massachusetts./Omar_Badawi_Philips Healthcare, Baltimore, Maryland; and._Department of Pharmacy Practice and Science, University of Maryland School of Pharmacy, Baltimore, Maryland.']\n",
            "0 31948262\n",
            "1 Temporal Trends in Critical Care Outcomes in U.S. Minority-Serving Hospitals.\n",
            "2 2020_06_22\n",
            "3 American journal of respiratory and critical care medicine\n",
            "4 2020_03_15\n",
            "5 Rationale: Whether critical care improvements over the last 10 years extend to all hospitals has not been described.Objectives: To examine the temporal trends of critical care outcomes in minority and non-minority-serving hospitals using an inception cohort of critically ill patients.Measurements and Main Results: Using the Philips Health Care electronic ICU Research Institute Database, we identified minority-serving hospitals as those with an African American or Hispanic ICU census more than twice its regional mean. We examined almost 1.1 million critical illness admissions among 208 ICUs from across the United States admitted between 2006 and 2016. Adjusted hospital mortality (primary) and length of hospitalization (secondary) were the main outcomes. Large pluralities of African American (25%, n = 27,242) and Hispanic individuals (48%, n = 26,743) were cared for in minority-serving hospitals, compared with only 5.2% (n = 42,941) of white individuals. Over the last 10 years, although the risk of critical illness mortality steadily decreased by 2% per year (95% confidence interval [CI], 0.97-0.98) in non-minority-serving hospitals, outcomes within minority-serving hospitals did not improve comparably. This disparity in temporal trends was particularly noticeable among African American individuals, where each additional calendar year was associated with a 3% (95% CI, 0.96-0.97) lower adjusted critical illness mortality within a non-minority-serving hospital, but no change within minority-serving hospitals (hazard ratio, 0.99; 95% CI, 0.97-1.01). Similarly, although ICU and hospital lengths of stay decreased by 0.08 (95% CI, -0.08 to -0.07) and 0.16 (95% CI, -0.16 to -0.15) days per additional calendar year, respectively, in non-minority-serving hospitals, there was little temporal change for African American individuals in minority-serving hospitals.Conclusions: Critically ill African American individuals are disproportionately cared for in minority-serving hospitals, which have shown significantly less improvement than non-minority-serving hospitals over the last 10 years.\n",
            "6 John_Danziger_Department of Medicine, Beth Israel Deaconess Medical Center, Harvard Medical School, Boston, Massachusetts./Miguel_Ángel Armengol de la Hoz_Cardiovascular Research Center, Harvard Medical School, Massachusetts General Hospital, Boston, Massachusetts._MIT Critical Data, Laboratory for Computational Physiology, Institute for Medical Engineering and Science, Cambridge, Massachusetts._Biomedical Engineering and Telemedicine Group, Biomedical Technology Centre CTB, ETSI Telecomunicación, Universidad Politécnica de Madrid, Madrid, Spain./Wenyuan_Li_Department of Epidemiology, Harvard T.H. Chan School of Public Health, Boston, Massachusetts./Matthieu_Komorowski_Department of Surgery and Cancer, Faculty of Medicine, Imperial College London, United Kingdom._Big Data Analytics Department and._Laboratory for Critical Care Research, Critical Care Department, Hospital Israelita Albert Einstein, São Paulo, Brazil./Rodrigo Octávio_Deliberato_MIT Critical Data, Laboratory for Computational Physiology, Institute for Medical Engineering and Science, Cambridge, Massachusetts._Big Data Analytics Department and._Laboratory for Critical Care Research, Critical Care Department, Hospital Israelita Albert Einstein, São Paulo, Brazil./Barret N M_Rush_Department of Critical Care Medicine, University of British Columbia, Vancouver, British Columbia, Canada./Kenneth J_Mukamal_Department of Medicine, Beth Israel Deaconess Medical Center, Harvard Medical School, Boston, Massachusetts./Leo_Celi_Department of Medicine, Beth Israel Deaconess Medical Center, Harvard Medical School, Boston, Massachusetts._MIT Critical Data, Laboratory for Computational Physiology, Institute for Medical Engineering and Science, Cambridge, Massachusetts./Omar_Badawi_Philips Healthcare, Baltimore, Maryland; and._Department of Pharmacy Practice and Science, University of Maryland School of Pharmacy, Baltimore, Maryland.\n",
            "['32126097', 'Predicting Intensive Care Unit admission among patients presenting to the emergency department using machine learning and natural language processing.', '2020_06_11', 'PloS one', '2020', 'The risk stratification of patients in the emergency department begins at triage. It is vital to stratify patients early based on their severity, since undertriage can lead to increased morbidity, mortality and costs. Our aim was to present a new approach to assist healthcare professionals at triage in the stratification of patients and in identifying those with higher risk of ICU admission. Adult patients assigned Manchester Triage System (MTS) or Emergency Severity Index (ESI) 1 to 3 from a Portuguese and a United States Emergency Departments were analyzed. Variables routinely collected at triage were used and natural language processing was applied to the patient chief complaint. Stratified random sampling was applied to split the data in train (70%) and test (30%) sets and 10-fold cross validation was performed for model training. Logistic regression, random forests, and a random undersampling boosting algorithm were used. We compared the performance obtained with the reference model-using only triage priorities-with the models using additional variables. For both hospitals, a logistic regression model achieved higher overall performance, yielding areas under the receiver operating characteristic and precision-recall curves of 0.91 (95% CI 0.90-0.92) and 0.30 (95% CI 0.27-0.33) for the United States hospital and of 0.85 (95% CI 0.83-0.86) and 0.06 (95% CI 0.05-0.07) for the Portuguese hospital. Heart rate, pulse oximetry, respiratory rate and systolic blood pressure were the most important predictors of ICU admission. Compared to the reference models, the models using clinical variables and the chief complaint presented higher recall for patients assigned MTS/ESI 3 and can identify patients assigned MTS/ESI 3 who are at risk for ICU admission.', 'Marta_Fernandes_IDMEC, Instituto Superior Técnico, Universidade de Lisboa, Lisbon, Portugal./Rúben_Mendes_IDMEC, Instituto Superior Técnico, Universidade de Lisboa, Lisbon, Portugal./Susana M_Vieira_IDMEC, Instituto Superior Técnico, Universidade de Lisboa, Lisbon, Portugal./Francisca_Leite_Hospital da Luz Learning Health, Lisbon, Portugal./Carlos_Palos_Hospital Beatriz Ângelo, Luz Saúde, Lisbon, Portugal./Alistair_Johnson_MIT Critical Data, Laboratory for Computational Physiology, Harvard-MIT Health Sciences & Technology, Massachusetts Institute of Technology, Cambridge, Massachusetts, United States of America./Stan_Finkelstein_Institute for Data, Systems and Society, Massachusetts Institute of Technology, Cambridge, Massachusetts, United States of America./Steven_Horng_Department of Emergency Medicine / Division of Clinical Informatics / Center for Healthcare Delivery Science, Beth Israel Deaconess Medical Center, Boston, Massachusetts, United States of America./Leo Anthony_Celi_MIT Critical Data, Laboratory for Computational Physiology, Harvard-MIT Health Sciences & Technology, Massachusetts Institute of Technology, Cambridge, Massachusetts, United States of America._Division of Pulmonary Critical Care and Sleep Medicine, Beth Israel Deaconess Medical Center, Boston, Massachusetts, United States of America.']\n",
            "0 32126097\n",
            "1 Predicting Intensive Care Unit admission among patients presenting to the emergency department using machine learning and natural language processing.\n",
            "2 2020_06_11\n",
            "3 PloS one\n",
            "4 2020\n",
            "5 The risk stratification of patients in the emergency department begins at triage. It is vital to stratify patients early based on their severity, since undertriage can lead to increased morbidity, mortality and costs. Our aim was to present a new approach to assist healthcare professionals at triage in the stratification of patients and in identifying those with higher risk of ICU admission. Adult patients assigned Manchester Triage System (MTS) or Emergency Severity Index (ESI) 1 to 3 from a Portuguese and a United States Emergency Departments were analyzed. Variables routinely collected at triage were used and natural language processing was applied to the patient chief complaint. Stratified random sampling was applied to split the data in train (70%) and test (30%) sets and 10-fold cross validation was performed for model training. Logistic regression, random forests, and a random undersampling boosting algorithm were used. We compared the performance obtained with the reference model-using only triage priorities-with the models using additional variables. For both hospitals, a logistic regression model achieved higher overall performance, yielding areas under the receiver operating characteristic and precision-recall curves of 0.91 (95% CI 0.90-0.92) and 0.30 (95% CI 0.27-0.33) for the United States hospital and of 0.85 (95% CI 0.83-0.86) and 0.06 (95% CI 0.05-0.07) for the Portuguese hospital. Heart rate, pulse oximetry, respiratory rate and systolic blood pressure were the most important predictors of ICU admission. Compared to the reference models, the models using clinical variables and the chief complaint presented higher recall for patients assigned MTS/ESI 3 and can identify patients assigned MTS/ESI 3 who are at risk for ICU admission.\n",
            "6 Marta_Fernandes_IDMEC, Instituto Superior Técnico, Universidade de Lisboa, Lisbon, Portugal./Rúben_Mendes_IDMEC, Instituto Superior Técnico, Universidade de Lisboa, Lisbon, Portugal./Susana M_Vieira_IDMEC, Instituto Superior Técnico, Universidade de Lisboa, Lisbon, Portugal./Francisca_Leite_Hospital da Luz Learning Health, Lisbon, Portugal./Carlos_Palos_Hospital Beatriz Ângelo, Luz Saúde, Lisbon, Portugal./Alistair_Johnson_MIT Critical Data, Laboratory for Computational Physiology, Harvard-MIT Health Sciences & Technology, Massachusetts Institute of Technology, Cambridge, Massachusetts, United States of America./Stan_Finkelstein_Institute for Data, Systems and Society, Massachusetts Institute of Technology, Cambridge, Massachusetts, United States of America./Steven_Horng_Department of Emergency Medicine / Division of Clinical Informatics / Center for Healthcare Delivery Science, Beth Israel Deaconess Medical Center, Boston, Massachusetts, United States of America./Leo Anthony_Celi_MIT Critical Data, Laboratory for Computational Physiology, Harvard-MIT Health Sciences & Technology, Massachusetts Institute of Technology, Cambridge, Massachusetts, United States of America._Division of Pulmonary Critical Care and Sleep Medicine, Beth Israel Deaconess Medical Center, Boston, Massachusetts, United States of America.\n",
            "['32240233', 'Risk of mortality and cardiopulmonary arrest in critical patients presenting to the emergency department using machine learning and natural language processing.', '2020_07_16', 'PloS one', '2020', \"Emergency department triage is the first point in time when a patient's acuity level is determined. The time to assign a priority at triage is short and it is vital to accurately stratify patients at this stage, since under-triage can lead to increased morbidity, mortality and costs. Our aim was to present a model that can assist healthcare professionals in triage decision making, namely in the stratification of patients through the risk prediction of a composite critical outcome-mortality and cardiopulmonary arrest. Our study cohort consisted of 235826 adult patients triaged at a Portuguese Emergency Department from 2012 to 2016. Patients were assigned to emergent, very urgent or urgent priorities of the Manchester Triage System (MTS). Demographics, clinical variables routinely collected at triage and the patients' chief complaint were used. Logistic regression, random forests and extreme gradient boosting were developed using all available variables. The term frequency-inverse document frequency (TF-IDF) natural language processing weighting factor was applied to vectorize the chief complaint. Stratified random sampling was used to split the data into train (70%) and test (30%) data sets. Ten-fold cross validation was performed in train to optimize model hyper-parameters. The performance obtained with the best model was compared against the reference model-a regularized logistic regression trained using only triage priorities. Extreme gradient boosting exhibited good calibration properties and yielded areas under the receiver operating characteristic and precision-recall curves of 0.96 (95% CI 0.95-0.97) and 0.31 (95% CI 0.26-0.36), respectively. The predictors ranked with higher importance by this model were the Glasgow coma score, the patients' age, pulse oximetry and arrival mode. Compared to the reference, the extreme gradient boosting model using clinical variables and the chief complaint presented higher recall for patients assigned MTS-3 and can identify those who are at risk of the composite outcome.\", 'Marta_Fernandes_IDMEC, Instituto Superior Técnico, Universidade de Lisboa, Lisbon, Portugal./Rúben_Mendes_IDMEC, Instituto Superior Técnico, Universidade de Lisboa, Lisbon, Portugal./Susana M_Vieira_IDMEC, Instituto Superior Técnico, Universidade de Lisboa, Lisbon, Portugal./Francisca_Leite_Hospital da Luz Learning Health, Lisbon, Portugal./Carlos_Palos_Hospital Beatriz Ângelo, Luz Saúde, Lisbon, Portugal./Alistair_Johnson_MIT Critical Data, Laboratory for Computational Physiology, Harvard-MIT Health Sciences & Technology, Massachusetts Institute of Technology, Cambridge, Massachusetts, United States of America./Stan_Finkelstein_Institute for Data, Systems and Society, Massachusetts Institute of Technology, Cambridge, Massachusetts, United States of America./Steven_Horng_Department of Emergency Medicine / Division of Clinical Informatics / Center for Healthcare Delivery Science, Beth Israel Deaconess Medical Center, Boston, Massachusetts, United States of America./Leo Anthony_Celi_MIT Critical Data, Laboratory for Computational Physiology, Harvard-MIT Health Sciences & Technology, Massachusetts Institute of Technology, Cambridge, Massachusetts, United States of America._Division of Pulmonary Critical Care and Sleep Medicine, Beth Israel Deaconess Medical Center, Boston, Massachusetts, United States of America.']\n",
            "0 32240233\n",
            "1 Risk of mortality and cardiopulmonary arrest in critical patients presenting to the emergency department using machine learning and natural language processing.\n",
            "2 2020_07_16\n",
            "3 PloS one\n",
            "4 2020\n",
            "5 Emergency department triage is the first point in time when a patient's acuity level is determined. The time to assign a priority at triage is short and it is vital to accurately stratify patients at this stage, since under-triage can lead to increased morbidity, mortality and costs. Our aim was to present a model that can assist healthcare professionals in triage decision making, namely in the stratification of patients through the risk prediction of a composite critical outcome-mortality and cardiopulmonary arrest. Our study cohort consisted of 235826 adult patients triaged at a Portuguese Emergency Department from 2012 to 2016. Patients were assigned to emergent, very urgent or urgent priorities of the Manchester Triage System (MTS). Demographics, clinical variables routinely collected at triage and the patients' chief complaint were used. Logistic regression, random forests and extreme gradient boosting were developed using all available variables. The term frequency-inverse document frequency (TF-IDF) natural language processing weighting factor was applied to vectorize the chief complaint. Stratified random sampling was used to split the data into train (70%) and test (30%) data sets. Ten-fold cross validation was performed in train to optimize model hyper-parameters. The performance obtained with the best model was compared against the reference model-a regularized logistic regression trained using only triage priorities. Extreme gradient boosting exhibited good calibration properties and yielded areas under the receiver operating characteristic and precision-recall curves of 0.96 (95% CI 0.95-0.97) and 0.31 (95% CI 0.26-0.36), respectively. The predictors ranked with higher importance by this model were the Glasgow coma score, the patients' age, pulse oximetry and arrival mode. Compared to the reference, the extreme gradient boosting model using clinical variables and the chief complaint presented higher recall for patients assigned MTS-3 and can identify those who are at risk of the composite outcome.\n",
            "6 Marta_Fernandes_IDMEC, Instituto Superior Técnico, Universidade de Lisboa, Lisbon, Portugal./Rúben_Mendes_IDMEC, Instituto Superior Técnico, Universidade de Lisboa, Lisbon, Portugal./Susana M_Vieira_IDMEC, Instituto Superior Técnico, Universidade de Lisboa, Lisbon, Portugal./Francisca_Leite_Hospital da Luz Learning Health, Lisbon, Portugal./Carlos_Palos_Hospital Beatriz Ângelo, Luz Saúde, Lisbon, Portugal./Alistair_Johnson_MIT Critical Data, Laboratory for Computational Physiology, Harvard-MIT Health Sciences & Technology, Massachusetts Institute of Technology, Cambridge, Massachusetts, United States of America./Stan_Finkelstein_Institute for Data, Systems and Society, Massachusetts Institute of Technology, Cambridge, Massachusetts, United States of America./Steven_Horng_Department of Emergency Medicine / Division of Clinical Informatics / Center for Healthcare Delivery Science, Beth Israel Deaconess Medical Center, Boston, Massachusetts, United States of America./Leo Anthony_Celi_MIT Critical Data, Laboratory for Computational Physiology, Harvard-MIT Health Sciences & Technology, Massachusetts Institute of Technology, Cambridge, Massachusetts, United States of America._Division of Pulmonary Critical Care and Sleep Medicine, Beth Israel Deaconess Medical Center, Boston, Massachusetts, United States of America.\n",
            "['32248145', 'Urban Intelligence for Pandemic Response: Viewpoint.', '2020_04_16', 'JMIR public health and surveillance', '2020_04_14', 'Previous epidemic management research proves the importance of city-level information, but also highlights limited expertise in urban data applications during a pandemic outbreak. In this paper, we provide an overview of city-level information, in combination with analytical and operational capacity, that define urban intelligence for supporting response to disease outbreaks. We present five components (movement, facilities, people, information, and engagement) that have been previously investigated but remain siloed to successfully orchestrate an integrated pandemic response. Reflecting on the coronavirus disease (COVID-19) outbreak that was first identified in Wuhan, China, we discuss the opportunities, technical challenges, and foreseeable controversies for deploying urban intelligence during a pandemic. Finally, we emphasize the urgency of building urban intelligence through cross-disciplinary research and collaborative practice on a global scale.', 'Yuan_Lai_Department of Urban Studies and Planning, Massachusetts Institute of Technology, Cambridge, MA, United States./Wesley_Yeung_Laboratory for Computational Physiology, Massachusetts Institute of Technology, Cambridge, MA, United States._National University Hospital, Singapore, Singapore./Leo Anthony_Celi_Laboratory for Computational Physiology, Massachusetts Institute of Technology, Cambridge, MA, United States._Harvard Medical School, Boston, MA, United States.']\n",
            "0 32248145\n",
            "1 Urban Intelligence for Pandemic Response: Viewpoint.\n",
            "2 2020_04_16\n",
            "3 JMIR public health and surveillance\n",
            "4 2020_04_14\n",
            "5 Previous epidemic management research proves the importance of city-level information, but also highlights limited expertise in urban data applications during a pandemic outbreak. In this paper, we provide an overview of city-level information, in combination with analytical and operational capacity, that define urban intelligence for supporting response to disease outbreaks. We present five components (movement, facilities, people, information, and engagement) that have been previously investigated but remain siloed to successfully orchestrate an integrated pandemic response. Reflecting on the coronavirus disease (COVID-19) outbreak that was first identified in Wuhan, China, we discuss the opportunities, technical challenges, and foreseeable controversies for deploying urban intelligence during a pandemic. Finally, we emphasize the urgency of building urban intelligence through cross-disciplinary research and collaborative practice on a global scale.\n",
            "6 Yuan_Lai_Department of Urban Studies and Planning, Massachusetts Institute of Technology, Cambridge, MA, United States./Wesley_Yeung_Laboratory for Computational Physiology, Massachusetts Institute of Technology, Cambridge, MA, United States._National University Hospital, Singapore, Singapore./Leo Anthony_Celi_Laboratory for Computational Physiology, Massachusetts Institute of Technology, Cambridge, MA, United States._Harvard Medical School, Boston, MA, United States.\n",
            "['32577533', 'What do medical students actually need to know about artificial intelligence?', 'NPJ digital medicine', '2020', 'With emerging innovations in artificial intelligence (AI) poised to substantially impact medical practice, interest in training current and future physicians about the technology is growing. Alongside comes the question of what, precisely, should medical students be taught. While competencies for the clinical usage of AI are broadly similar to those for any other novel technology, there are qualitative differences of critical importance to concerns regarding explainability, health equity, and data security. Drawing on experiences at the University of Toronto Faculty of Medicine and MIT Critical Data\\'s \"datathons\", the authors advocate for a dual-focused approach: combining robust data science-focused additions to baseline health research curricula and extracurricular programs to cultivate leadership in this space.', \"Liam G_McCoy_Faculty of Medicine, University of Toronto, Medical Sciences Building, 1 King's College Cir, Toronto, ON M5S 1A8 Canada._Institute of Health Policy, Management and Evaluation, Dalla Lana School of Public Health, University of Toronto, 155 College St 4th Floor, Toronto, ON M5T 3M6 Canada./Sujay_Nagaraj_Faculty of Medicine, University of Toronto, Medical Sciences Building, 1 King's College Cir, Toronto, ON M5S 1A8 Canada._Department of Computer Science, University of Toronto, 40 St. George Street, Room 4283, Toronto, ON M5S 2E4 Canada./Felipe_Morgado_Faculty of Medicine, University of Toronto, Medical Sciences Building, 1 King's College Cir, Toronto, ON M5S 1A8 Canada._Department of Medical Biophysics, University of Toronto, 101 College St, Suite 15-701, Toronto, ON M5G 1L7 Canada./Vinyas_Harish_Faculty of Medicine, University of Toronto, Medical Sciences Building, 1 King's College Cir, Toronto, ON M5S 1A8 Canada._Institute of Health Policy, Management and Evaluation, Dalla Lana School of Public Health, University of Toronto, 155 College St 4th Floor, Toronto, ON M5T 3M6 Canada./Sunit_Das_Faculty of Medicine, University of Toronto, Medical Sciences Building, 1 King's College Cir, Toronto, ON M5S 1A8 Canada._Centre for Ethics, University of Toronto, 15 Devonshire Pl, Toronto, ON M5S 1H8 Canada./Leo Anthony_Celi_Institute for Medical Engineering and Science, Massachusetts Institute of Technology, 77 Massachusetts Avenue, E25-505, Cambridge, MA 02139 USA._Division of Pulmonary, Critical Care and Sleep Medicine, Beth Israel Deaconess Medical Center, 330 Brookline Avenue, Boston, MA 02215 USA._Department of Biostatistics, Harvard T.H. Chan School of Public Health, 677 Huntington Avenue, Boston, MA 02115 USA.\"]\n",
            "0 32577533\n",
            "1 What do medical students actually need to know about artificial intelligence?\n",
            "2 NPJ digital medicine\n",
            "3 2020\n",
            "4 With emerging innovations in artificial intelligence (AI) poised to substantially impact medical practice, interest in training current and future physicians about the technology is growing. Alongside comes the question of what, precisely, should medical students be taught. While competencies for the clinical usage of AI are broadly similar to those for any other novel technology, there are qualitative differences of critical importance to concerns regarding explainability, health equity, and data security. Drawing on experiences at the University of Toronto Faculty of Medicine and MIT Critical Data's \"datathons\", the authors advocate for a dual-focused approach: combining robust data science-focused additions to baseline health research curricula and extracurricular programs to cultivate leadership in this space.\n",
            "5 Liam G_McCoy_Faculty of Medicine, University of Toronto, Medical Sciences Building, 1 King's College Cir, Toronto, ON M5S 1A8 Canada._Institute of Health Policy, Management and Evaluation, Dalla Lana School of Public Health, University of Toronto, 155 College St 4th Floor, Toronto, ON M5T 3M6 Canada./Sujay_Nagaraj_Faculty of Medicine, University of Toronto, Medical Sciences Building, 1 King's College Cir, Toronto, ON M5S 1A8 Canada._Department of Computer Science, University of Toronto, 40 St. George Street, Room 4283, Toronto, ON M5S 2E4 Canada./Felipe_Morgado_Faculty of Medicine, University of Toronto, Medical Sciences Building, 1 King's College Cir, Toronto, ON M5S 1A8 Canada._Department of Medical Biophysics, University of Toronto, 101 College St, Suite 15-701, Toronto, ON M5G 1L7 Canada./Vinyas_Harish_Faculty of Medicine, University of Toronto, Medical Sciences Building, 1 King's College Cir, Toronto, ON M5S 1A8 Canada._Institute of Health Policy, Management and Evaluation, Dalla Lana School of Public Health, University of Toronto, 155 College St 4th Floor, Toronto, ON M5T 3M6 Canada./Sunit_Das_Faculty of Medicine, University of Toronto, Medical Sciences Building, 1 King's College Cir, Toronto, ON M5S 1A8 Canada._Centre for Ethics, University of Toronto, 15 Devonshire Pl, Toronto, ON M5S 1H8 Canada./Leo Anthony_Celi_Institute for Medical Engineering and Science, Massachusetts Institute of Technology, 77 Massachusetts Avenue, E25-505, Cambridge, MA 02139 USA._Division of Pulmonary, Critical Care and Sleep Medicine, Beth Israel Deaconess Medical Center, 330 Brookline Avenue, Boston, MA 02215 USA._Department of Biostatistics, Harvard T.H. Chan School of Public Health, 677 Huntington Avenue, Boston, MA 02115 USA.\n",
            "['32449686', 'COVID-19: Putting the General Data Protection Regulation to the Test.', '2020_06_03', 'JMIR public health and surveillance', '2020_05_29', \"The coronavirus disease (COVID-19) pandemic is very much a global health issue and requires collaborative, international health research efforts to address it. A valuable source of information for researchers is the large amount of digital health data that are continuously collected by electronic health record systems at health care organizations. The European Union's General Data Protection Regulation (GDPR) will be the key legal framework with regard to using and sharing European digital health data for research purposes. However, concerns persist that the GDPR has made many organizations very risk-averse in terms of data sharing, even if the regulation permits such sharing. Health care organizations focusing on individual risk minimization threaten to undermine COVID-19 research efforts. In our opinion, there is an ethical obligation to use the research exemption clause of the GDPR during the COVID-19 pandemic to support global collaborative health research efforts. Solidarity is a European value, and here is a chance to exemplify it by using the GDPR regulatory framework in a way that does not hinder but actually fosters solidarity during the COVID-19 pandemic.\", 'Stuart_McLennan_Institute of History and Ethics in Medicine, Technical University of Munich, Munich, Germany./Leo Anthony_Celi_Division of Pulmonary, Critical Care, and Sleep Medicine, Beth Israel Deaconess Medical Center, Boston, MA, United States._Harvard-Massachusetts Division of Health Science and Technology, Cambridge, MA, United States./Alena_Buyx_Institute of History and Ethics in Medicine, Technical University of Munich, Munich, Germany.']\n",
            "0 32449686\n",
            "1 COVID-19: Putting the General Data Protection Regulation to the Test.\n",
            "2 2020_06_03\n",
            "3 JMIR public health and surveillance\n",
            "4 2020_05_29\n",
            "5 The coronavirus disease (COVID-19) pandemic is very much a global health issue and requires collaborative, international health research efforts to address it. A valuable source of information for researchers is the large amount of digital health data that are continuously collected by electronic health record systems at health care organizations. The European Union's General Data Protection Regulation (GDPR) will be the key legal framework with regard to using and sharing European digital health data for research purposes. However, concerns persist that the GDPR has made many organizations very risk-averse in terms of data sharing, even if the regulation permits such sharing. Health care organizations focusing on individual risk minimization threaten to undermine COVID-19 research efforts. In our opinion, there is an ethical obligation to use the research exemption clause of the GDPR during the COVID-19 pandemic to support global collaborative health research efforts. Solidarity is a European value, and here is a chance to exemplify it by using the GDPR regulatory framework in a way that does not hinder but actually fosters solidarity during the COVID-19 pandemic.\n",
            "6 Stuart_McLennan_Institute of History and Ethics in Medicine, Technical University of Munich, Munich, Germany./Leo Anthony_Celi_Division of Pulmonary, Critical Care, and Sleep Medicine, Beth Israel Deaconess Medical Center, Boston, MA, United States._Harvard-Massachusetts Division of Health Science and Technology, Cambridge, MA, United States./Alena_Buyx_Institute of History and Ethics in Medicine, Technical University of Munich, Munich, Germany.\n",
            "['32577534', '\"Yes, but will it work for my patients?\" Driving clinically relevant research with benchmark datasets.', 'NPJ digital medicine', '2020', 'Benchmark datasets have a powerful normative influence: by determining how the real world is represented in data, they define which problems will first be solved by algorithms built using the datasets and, by extension, who these algorithms will work for. It is desirable for these datasets to serve four functions: (1) enabling the creation of clinically relevant algorithms; (2) facilitating like-for-like comparison of algorithmic performance; (3) ensuring reproducibility of algorithms; (4) asserting a normative influence on the clinical domains and diversity of patients that will potentially benefit from technological advances. Without benchmark datasets that satisfy these functions, it is impossible to address two perennial concerns of clinicians experienced in computational research: \"the data scientists just go where the data is rather than where the needs are,\" and, \"yes, but will this work for my patients?\" If algorithms are to be developed and applied for the care of patients, then it is prudent for the research community to create benchmark datasets proactively, across specialties. As yet, best practice in this area has not been defined. Broadly speaking, efforts will include design of the dataset; compliance and contracting issues relating to the sharing of sensitive data; enabling access and reuse; and planning for translation of algorithms to the clinical environment. If a deliberate and systematic approach is not followed, not only will the considerable benefits of clinical algorithms fail to be realized, but the potential harms may be regressively incurred across existing gradients of social inequity.', 'Trishan_Panch_Division of Health Policy and Management, Harvard T.H. Chan School of Public Health, Boston, MA USA._Wellframe Inc., Boston, MA USA./Tom J_Pollard_Laboratory for Computational Physiology, Massachusetts Institute of Technology, Cambridge, MA USA./Heather_Mattie_Wellframe Inc., Boston, MA USA._Department of Biostatistics, Harvard T.H. Chan School of Public Health, Boston, MA USA./Emily_Lindemer_Wellframe Inc., Boston, MA USA./Pearse A_Keane_NIHR Biomedical Research Centre at Moorfields Eye Hospital and UCL Institute of Ophthalmology, London, UK./Leo Anthony_Celi_Laboratory for Computational Physiology, Massachusetts Institute of Technology, Cambridge, MA USA._Department of Biostatistics, Harvard T.H. Chan School of Public Health, Boston, MA USA._Division of Pulmonary, Critical Care and Sleep Medicine, Beth Israel Deaconess Medical Center, Boston, MA USA.']\n",
            "0 32577534\n",
            "1 \"Yes, but will it work for my patients?\" Driving clinically relevant research with benchmark datasets.\n",
            "2 NPJ digital medicine\n",
            "3 2020\n",
            "4 Benchmark datasets have a powerful normative influence: by determining how the real world is represented in data, they define which problems will first be solved by algorithms built using the datasets and, by extension, who these algorithms will work for. It is desirable for these datasets to serve four functions: (1) enabling the creation of clinically relevant algorithms; (2) facilitating like-for-like comparison of algorithmic performance; (3) ensuring reproducibility of algorithms; (4) asserting a normative influence on the clinical domains and diversity of patients that will potentially benefit from technological advances. Without benchmark datasets that satisfy these functions, it is impossible to address two perennial concerns of clinicians experienced in computational research: \"the data scientists just go where the data is rather than where the needs are,\" and, \"yes, but will this work for my patients?\" If algorithms are to be developed and applied for the care of patients, then it is prudent for the research community to create benchmark datasets proactively, across specialties. As yet, best practice in this area has not been defined. Broadly speaking, efforts will include design of the dataset; compliance and contracting issues relating to the sharing of sensitive data; enabling access and reuse; and planning for translation of algorithms to the clinical environment. If a deliberate and systematic approach is not followed, not only will the considerable benefits of clinical algorithms fail to be realized, but the potential harms may be regressively incurred across existing gradients of social inequity.\n",
            "5 Trishan_Panch_Division of Health Policy and Management, Harvard T.H. Chan School of Public Health, Boston, MA USA._Wellframe Inc., Boston, MA USA./Tom J_Pollard_Laboratory for Computational Physiology, Massachusetts Institute of Technology, Cambridge, MA USA./Heather_Mattie_Wellframe Inc., Boston, MA USA._Department of Biostatistics, Harvard T.H. Chan School of Public Health, Boston, MA USA./Emily_Lindemer_Wellframe Inc., Boston, MA USA./Pearse A_Keane_NIHR Biomedical Research Centre at Moorfields Eye Hospital and UCL Institute of Ophthalmology, London, UK./Leo Anthony_Celi_Laboratory for Computational Physiology, Massachusetts Institute of Technology, Cambridge, MA USA._Department of Biostatistics, Harvard T.H. Chan School of Public Health, Boston, MA USA._Division of Pulmonary, Critical Care and Sleep Medicine, Beth Israel Deaconess Medical Center, Boston, MA USA.\n",
            "['32432708', 'Assessment of Proficiency of N95 Mask Donning Among the General Public in Singapore.', '2020_10_26', 'JAMA network open', '2020_05_01', 'Wesley_Yeung_University Medicine Cluster, National University Hospital, Singapore._Laboratory for Computational Physiology, Harvard-MIT Health Sciences and Technology, Massachusetts Institute of Technology, Cambridge./Kennedy_Ng_Division of Medical Oncology, National Cancer Centre Singapore, Singapore./J M Nigel_Fong_Division of Medicine, Singapore General Hospital, Singapore./Judy_Sng_Saw Swee Hock School of Public Health, National University of Singapore, Singapore./Bee Choo_Tai_Saw Swee Hock School of Public Health, National University of Singapore, Singapore./Sin Eng_Chia_Saw Swee Hock School of Public Health, National University of Singapore, Singapore.']\n",
            "0 32432708\n",
            "1 Assessment of Proficiency of N95 Mask Donning Among the General Public in Singapore.\n",
            "2 2020_10_26\n",
            "3 JAMA network open\n",
            "4 2020_05_01\n",
            "5 Wesley_Yeung_University Medicine Cluster, National University Hospital, Singapore._Laboratory for Computational Physiology, Harvard-MIT Health Sciences and Technology, Massachusetts Institute of Technology, Cambridge./Kennedy_Ng_Division of Medical Oncology, National Cancer Centre Singapore, Singapore./J M Nigel_Fong_Division of Medicine, Singapore General Hospital, Singapore./Judy_Sng_Saw Swee Hock School of Public Health, National University of Singapore, Singapore./Bee Choo_Tai_Saw Swee Hock School of Public Health, National University of Singapore, Singapore./Sin Eng_Chia_Saw Swee Hock School of Public Health, National University of Singapore, Singapore.\n",
            "CPU times: user 226 ms, sys: 82.2 ms, total: 308 ms\n",
            "Wall time: 9.29 s\n"
          ],
          "name": "stdout"
        }
      ]
    },
    {
      "cell_type": "code",
      "metadata": {
        "colab": {
          "base_uri": "https://localhost:8080/"
        },
        "id": "hrPOHWbgFJzl",
        "outputId": "c7bae5b9-c365-4be6-f289-99ae799bc516"
      },
      "source": [
        "# Ignore below\n",
        "pmid_list_2020"
      ],
      "execution_count": 112,
      "outputs": [
        {
          "output_type": "execute_result",
          "data": {
            "text/plain": [
              "[32612144,\n",
              " 31948262,\n",
              " 32126097,\n",
              " 32240233,\n",
              " 32248145,\n",
              " 32577533,\n",
              " 32449686,\n",
              " 32577534,\n",
              " 32432708]"
            ]
          },
          "metadata": {
            "tags": []
          },
          "execution_count": 112
        }
      ]
    },
    {
      "cell_type": "code",
      "metadata": {
        "id": "NENd3kjimIqO"
      },
      "source": [
        ""
      ],
      "execution_count": null,
      "outputs": []
    }
  ]
}