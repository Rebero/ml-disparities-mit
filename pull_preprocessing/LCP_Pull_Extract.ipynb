{
  "nbformat": 4,
  "nbformat_minor": 0,
  "metadata": {
    "colab": {
      "name": "Copy of LCP_Pull_Extract.ipynb",
      "provenance": [],
      "collapsed_sections": [],
      "authorship_tag": "ABX9TyOcqI7dwXPhPwRJg6e1CycE",
      "include_colab_link": true
    },
    "kernelspec": {
      "name": "python3",
      "display_name": "Python 3"
    },
    "language_info": {
      "name": "python"
    }
  },
  "cells": [
    {
      "cell_type": "markdown",
      "metadata": {
        "id": "view-in-github",
        "colab_type": "text"
      },
      "source": [
        "<a href=\"https://colab.research.google.com/github/atjoelpark/ml-disparities-mit/blob/master/pull_preprocessing/LCP_Pull_Extract.ipynb\" target=\"_parent\"><img src=\"https://colab.research.google.com/assets/colab-badge.svg\" alt=\"Open In Colab\"/></a>"
      ]
    },
    {
      "cell_type": "markdown",
      "metadata": {
        "id": "9ou01sFNHqII"
      },
      "source": [
        "# Pull and Extraction of LCP PMIDs\n",
        "\n",
        "This notebook provides documentation and code for pulling metadata for a list of PMID IDs.\n",
        "\n",
        "Reference: https://lcp.mit.edu/publications"
      ]
    },
    {
      "cell_type": "code",
      "metadata": {
        "id": "D5F68NWGnNJT"
      },
      "source": [
        "# Customization\n",
        "# Please enter in the pathway in your Google Drive (after /content/drive/) that you would like your files to be saved into\n",
        "# Users will only need to modify this code then run all the cells in order\n",
        "google_drive_url = \"\""
      ],
      "execution_count": null,
      "outputs": []
    },
    {
      "cell_type": "markdown",
      "metadata": {
        "id": "5i7Z0eLsnKp3"
      },
      "source": [
        "# Libraries and Mounting Google Drive"
      ]
    },
    {
      "cell_type": "code",
      "metadata": {
        "id": "q9gwfQKjHHOF"
      },
      "source": [
        "# Importing libraries\n",
        "import numpy as np \n",
        "import pandas as pd \n",
        "import re \n",
        "import requests\n",
        "from bs4 import BeautifulSoup"
      ],
      "execution_count": null,
      "outputs": []
    },
    {
      "cell_type": "code",
      "metadata": {
        "colab": {
          "base_uri": "https://localhost:8080/"
        },
        "id": "h2CMbEmxcI52",
        "outputId": "de884f5b-1817-48a5-f8de-3dde0da406b0"
      },
      "source": [
        "# Mounting Google Drive if using Google Drive\n",
        "from google.colab import drive\n",
        "drive.mount(f'/content/drive/{google_drive_url}')"
      ],
      "execution_count": null,
      "outputs": [
        {
          "output_type": "stream",
          "text": [
            "Mounted at /content/drive/\n"
          ],
          "name": "stdout"
        }
      ]
    },
    {
      "cell_type": "markdown",
      "metadata": {
        "id": "KHftg_fXkRLd"
      },
      "source": [
        "## Defining Functions"
      ]
    },
    {
      "cell_type": "code",
      "metadata": {
        "id": "qI4WyW-wlVY0"
      },
      "source": [
        "# Installing E-utilities Entrez Direct\n",
        "def e_utilities_install():\n",
        "  \"\"\"\n",
        "  Installs e_utilities\n",
        "  Reference: https://www.ncbi.nlm.nih.gov/books/NBK179288/\n",
        "  \"\"\"\n",
        "  !curl -L https://www.ncbi.nlm.nih.gov/books/NBK179288/bin/install-edirect.sh > install-edirect.sh\n",
        "  !bash install-edirect.sh -y\n",
        "  !echo 'export PATH=\\$PATH:\\$HOME/edirect' >> $HOME/.bash_profile\n",
        "  !rm install-edirect.sh"
      ],
      "execution_count": null,
      "outputs": []
    },
    {
      "cell_type": "code",
      "metadata": {
        "id": "WQ0eaIJLcmFa"
      },
      "source": [
        "# Setting development environment for Selenium\n",
        "def setup_dev_environment():\n",
        "  \"\"\"\n",
        "  Installs chromium, driver and selenium\n",
        "  Sets options to be headless\n",
        "  Opens a website and prepares Selenium for use\n",
        "  Returns: webdriver\n",
        "  \"\"\"\n",
        "\n",
        "  # install chromium, its driver, and selenium\n",
        "  !apt update\n",
        "  !apt install chromium-chromedriver\n",
        "  !pip install selenium\n",
        "  !pip install webdriver_manager\n",
        "  # set options to be headless, ..\n",
        "  from selenium import webdriver\n",
        "  options = webdriver.ChromeOptions()\n",
        "  options.add_argument('--headless')\n",
        "  options.add_argument('--no-sandbox')\n",
        "  options.add_argument('--disable-dev-shm-usage')\n",
        "  # open it, go to a website, and get results\n",
        "  print(\"Chromium, Driver and Selenium successfully started....\")\n",
        "  return webdriver.Chrome(options=options)"
      ],
      "execution_count": null,
      "outputs": []
    },
    {
      "cell_type": "code",
      "metadata": {
        "id": "QG8QXqbkYL8G"
      },
      "source": [
        "# Defining Functions\n",
        "def pull_pmid(year: int, wb) -> list:\n",
        "  \"\"\"\n",
        "  \n",
        "  This takes in a year as an argument and reads the PMID IDs for each year within https://lcp.mit.edu/publications\n",
        "\n",
        "  Dependencies: Selenium, chromium-chromedriver, webdriver_manager, re\n",
        "  @param year: This int contains the year to scrape from in https://lcp.mit.edu/publications\n",
        "  @param wb: Passes in the webdriver for Selenium\n",
        "  @return: a list of PMIDs\n",
        "  @raise TypeError: raises an exception\n",
        "  \"\"\"\n",
        "  try:\n",
        "    # Uses Selenium to search by CSS\n",
        "    URL = f'https://lcp.mit.edu/publications#P_{year}'\n",
        "    wd.get(URL)\n",
        "    _links = wd.find_elements_by_css_selector('.bib2xhtml a+ a')\n",
        "\n",
        "    # Initiating an empty PMID list and appends to list with all PMID IDs\n",
        "    _pmid_list = []\n",
        "    for i in _links:\n",
        "      tmp_search = re.findall(r'\\(PMID:.*\\)', i.text)\n",
        "      if tmp_search:\n",
        "        _pmid_list.append(tmp_search)\n",
        "\n",
        "    # Flattends the list\n",
        "    _pmid_list = [item for sublist in _pmid_list for item in sublist]\n",
        "\n",
        "    # Extracts out only integers and removes text and special characters. \n",
        "    # Returns the list\n",
        "    _pmid_list = [int(re.findall(r'\\d+', i)[0]) for i in _pmid_list]\n",
        "    return _pmid_list\n",
        "\n",
        "  except TypeError as e:\n",
        "    print(\"Error raised while pulling PMID...\")\n",
        "    print(e)"
      ],
      "execution_count": null,
      "outputs": []
    },
    {
      "cell_type": "code",
      "metadata": {
        "id": "IXr5QGofH8XC"
      },
      "source": [
        "# Defining Functions\n",
        "def pull_pmid_metadata(pmid: list) -> pd.DataFrame:\n",
        "  \"\"\"\n",
        "  This is dependent on E-utilities\n",
        "\n",
        "  @param pmid: Takes a list of PMIDs produced by function pull_pmid\n",
        "  @return: Returns a Pandas DataFrame\n",
        "  @raise keyError: raises an exception\n",
        "  \"\"\"\n",
        "  for i in pmid:\n",
        "    _temp = f'$HOME/edirect/efetch -db pubmed -id {i} -format xml | $HOME/edirect/xtract -pattern PubmedArticle -block Author \\\n",
        "      -sep \" \" -tab \"| \" -element ForeName,LastName'\n",
        "    _result = !{_temp}\n",
        "    print(_result)"
      ],
      "execution_count": null,
      "outputs": []
    },
    {
      "cell_type": "markdown",
      "metadata": {
        "id": "JLhETuQhmGb6"
      },
      "source": [
        "# Main"
      ]
    },
    {
      "cell_type": "code",
      "metadata": {
        "colab": {
          "base_uri": "https://localhost:8080/"
        },
        "id": "yxvNWj7AlMFa",
        "outputId": "51edbae2-90b0-4574-a581-7942bf6dc714"
      },
      "source": [
        "%%time\n",
        "# Install E-utilities, when prompted \"Would you like to do that automatically now?\" Please select 'y'.\n",
        "e_utilities_install()"
      ],
      "execution_count": null,
      "outputs": [
        {
          "output_type": "stream",
          "text": [
            "  % Total    % Received % Xferd  Average Speed   Time    Time     Time  Current\n",
            "                                 Dload  Upload   Total   Spent    Left  Speed\n",
            "100   665  100   665    0     0   1330      0 --:--:-- --:--:-- --:--:--  1327\n",
            "\n",
            "Entrez Direct has been successfully downloaded and installed.\n",
            "\n",
            "In order to complete the configuration process, please execute the following:\n",
            "\n",
            "  echo \"export PATH=\\${PATH}:/root/edirect\" >> $HOME/.bashrc\n",
            "\n",
            "or manually edit the PATH variable assignment in your .bashrc file.\n",
            "\n",
            "Would you like to do that automatically now? [y/N]\n",
            "y\n",
            "OK, done.\n",
            "CPU times: user 386 ms, sys: 87.2 ms, total: 474 ms\n",
            "Wall time: 1min 6s\n"
          ],
          "name": "stdout"
        }
      ]
    },
    {
      "cell_type": "code",
      "metadata": {
        "colab": {
          "base_uri": "https://localhost:8080/"
        },
        "id": "3fxofv-JiCK5",
        "outputId": "fc7d6ad8-1db7-4dc8-a28c-872ed5972044"
      },
      "source": [
        "%%time \n",
        "# Sets up Web Driver\n",
        "wd = setup_dev_environment()"
      ],
      "execution_count": null,
      "outputs": [
        {
          "output_type": "stream",
          "text": [
            "\u001b[33m\r0% [Working]\u001b[0m\r            \rGet:1 https://cloud.r-project.org/bin/linux/ubuntu bionic-cran40/ InRelease [3,626 B]\n",
            "Ign:2 https://developer.download.nvidia.com/compute/cuda/repos/ubuntu1804/x86_64  InRelease\n",
            "Ign:3 https://developer.download.nvidia.com/compute/machine-learning/repos/ubuntu1804/x86_64  InRelease\n",
            "Get:4 http://security.ubuntu.com/ubuntu bionic-security InRelease [88.7 kB]\n",
            "Get:5 https://developer.download.nvidia.com/compute/cuda/repos/ubuntu1804/x86_64  Release [697 B]\n",
            "Hit:6 https://developer.download.nvidia.com/compute/machine-learning/repos/ubuntu1804/x86_64  Release\n",
            "Get:7 https://developer.download.nvidia.com/compute/cuda/repos/ubuntu1804/x86_64  Release.gpg [836 B]\n",
            "Get:8 http://ppa.launchpad.net/c2d4u.team/c2d4u4.0+/ubuntu bionic InRelease [15.9 kB]\n",
            "Hit:9 http://archive.ubuntu.com/ubuntu bionic InRelease\n",
            "Get:10 http://archive.ubuntu.com/ubuntu bionic-updates InRelease [88.7 kB]\n",
            "Hit:12 http://ppa.launchpad.net/cran/libgit2/ubuntu bionic InRelease\n",
            "Ign:13 https://developer.download.nvidia.com/compute/cuda/repos/ubuntu1804/x86_64  Packages\n",
            "Get:13 https://developer.download.nvidia.com/compute/cuda/repos/ubuntu1804/x86_64  Packages [679 kB]\n",
            "Get:14 http://archive.ubuntu.com/ubuntu bionic-backports InRelease [74.6 kB]\n",
            "Hit:15 http://ppa.launchpad.net/deadsnakes/ppa/ubuntu bionic InRelease\n",
            "Get:16 http://ppa.launchpad.net/graphics-drivers/ppa/ubuntu bionic InRelease [21.3 kB]\n",
            "Get:17 http://security.ubuntu.com/ubuntu bionic-security/restricted amd64 Packages [500 kB]\n",
            "Get:18 http://security.ubuntu.com/ubuntu bionic-security/main amd64 Packages [2,257 kB]\n",
            "Get:19 http://security.ubuntu.com/ubuntu bionic-security/multiverse amd64 Packages [31.5 kB]\n",
            "Get:20 http://security.ubuntu.com/ubuntu bionic-security/universe amd64 Packages [1,420 kB]\n",
            "Get:21 http://ppa.launchpad.net/c2d4u.team/c2d4u4.0+/ubuntu bionic/main Sources [1,785 kB]\n",
            "Get:22 http://archive.ubuntu.com/ubuntu bionic-updates/universe amd64 Packages [2,190 kB]\n",
            "Get:23 http://archive.ubuntu.com/ubuntu bionic-updates/restricted amd64 Packages [533 kB]\n",
            "Get:24 http://ppa.launchpad.net/c2d4u.team/c2d4u4.0+/ubuntu bionic/main amd64 Packages [913 kB]\n",
            "Get:25 http://archive.ubuntu.com/ubuntu bionic-updates/main amd64 Packages [2,693 kB]\n",
            "Get:26 http://archive.ubuntu.com/ubuntu bionic-updates/multiverse amd64 Packages [38.7 kB]\n",
            "Get:27 http://ppa.launchpad.net/graphics-drivers/ppa/ubuntu bionic/main amd64 Packages [44.1 kB]\n",
            "Fetched 13.4 MB in 4s (3,048 kB/s)\n",
            "Reading package lists... Done\n",
            "Building dependency tree       \n",
            "Reading state information... Done\n",
            "84 packages can be upgraded. Run 'apt list --upgradable' to see them.\n",
            "Reading package lists... Done\n",
            "Building dependency tree       \n",
            "Reading state information... Done\n",
            "The following additional packages will be installed:\n",
            "  chromium-browser chromium-browser-l10n chromium-codecs-ffmpeg-extra\n",
            "Suggested packages:\n",
            "  webaccounts-chromium-extension unity-chromium-extension\n",
            "The following NEW packages will be installed:\n",
            "  chromium-browser chromium-browser-l10n chromium-chromedriver\n",
            "  chromium-codecs-ffmpeg-extra\n",
            "0 upgraded, 4 newly installed, 0 to remove and 84 not upgraded.\n",
            "Need to get 86.0 MB of archives.\n",
            "After this operation, 298 MB of additional disk space will be used.\n",
            "Get:1 http://archive.ubuntu.com/ubuntu bionic-updates/universe amd64 chromium-codecs-ffmpeg-extra amd64 91.0.4472.101-0ubuntu0.18.04.1 [1,124 kB]\n",
            "Get:2 http://archive.ubuntu.com/ubuntu bionic-updates/universe amd64 chromium-browser amd64 91.0.4472.101-0ubuntu0.18.04.1 [76.1 MB]\n",
            "Get:3 http://archive.ubuntu.com/ubuntu bionic-updates/universe amd64 chromium-browser-l10n all 91.0.4472.101-0ubuntu0.18.04.1 [3,937 kB]\n",
            "Get:4 http://archive.ubuntu.com/ubuntu bionic-updates/universe amd64 chromium-chromedriver amd64 91.0.4472.101-0ubuntu0.18.04.1 [4,837 kB]\n",
            "Fetched 86.0 MB in 5s (15.7 MB/s)\n",
            "Selecting previously unselected package chromium-codecs-ffmpeg-extra.\n",
            "(Reading database ... 160837 files and directories currently installed.)\n",
            "Preparing to unpack .../chromium-codecs-ffmpeg-extra_91.0.4472.101-0ubuntu0.18.04.1_amd64.deb ...\n",
            "Unpacking chromium-codecs-ffmpeg-extra (91.0.4472.101-0ubuntu0.18.04.1) ...\n",
            "Selecting previously unselected package chromium-browser.\n",
            "Preparing to unpack .../chromium-browser_91.0.4472.101-0ubuntu0.18.04.1_amd64.deb ...\n",
            "Unpacking chromium-browser (91.0.4472.101-0ubuntu0.18.04.1) ...\n",
            "Selecting previously unselected package chromium-browser-l10n.\n",
            "Preparing to unpack .../chromium-browser-l10n_91.0.4472.101-0ubuntu0.18.04.1_all.deb ...\n",
            "Unpacking chromium-browser-l10n (91.0.4472.101-0ubuntu0.18.04.1) ...\n",
            "Selecting previously unselected package chromium-chromedriver.\n",
            "Preparing to unpack .../chromium-chromedriver_91.0.4472.101-0ubuntu0.18.04.1_amd64.deb ...\n",
            "Unpacking chromium-chromedriver (91.0.4472.101-0ubuntu0.18.04.1) ...\n",
            "Setting up chromium-codecs-ffmpeg-extra (91.0.4472.101-0ubuntu0.18.04.1) ...\n",
            "Setting up chromium-browser (91.0.4472.101-0ubuntu0.18.04.1) ...\n",
            "update-alternatives: using /usr/bin/chromium-browser to provide /usr/bin/x-www-browser (x-www-browser) in auto mode\n",
            "update-alternatives: using /usr/bin/chromium-browser to provide /usr/bin/gnome-www-browser (gnome-www-browser) in auto mode\n",
            "Setting up chromium-chromedriver (91.0.4472.101-0ubuntu0.18.04.1) ...\n",
            "Setting up chromium-browser-l10n (91.0.4472.101-0ubuntu0.18.04.1) ...\n",
            "Processing triggers for man-db (2.8.3-2ubuntu0.1) ...\n",
            "Processing triggers for hicolor-icon-theme (0.17-2) ...\n",
            "Processing triggers for mime-support (3.60ubuntu1) ...\n",
            "Processing triggers for libc-bin (2.27-3ubuntu1.2) ...\n",
            "/sbin/ldconfig.real: /usr/local/lib/python3.7/dist-packages/ideep4py/lib/libmkldnn.so.0 is not a symbolic link\n",
            "\n",
            "Collecting selenium\n",
            "  Downloading selenium-3.141.0-py2.py3-none-any.whl (904 kB)\n",
            "\u001b[K     |████████████████████████████████| 904 kB 9.0 MB/s \n",
            "\u001b[?25hRequirement already satisfied: urllib3 in /usr/local/lib/python3.7/dist-packages (from selenium) (1.24.3)\n",
            "Installing collected packages: selenium\n",
            "Successfully installed selenium-3.141.0\n",
            "Collecting webdriver_manager\n",
            "  Downloading webdriver_manager-3.4.2-py2.py3-none-any.whl (16 kB)\n",
            "Collecting crayons\n",
            "  Downloading crayons-0.4.0-py2.py3-none-any.whl (4.6 kB)\n",
            "Requirement already satisfied: requests in /usr/local/lib/python3.7/dist-packages (from webdriver_manager) (2.23.0)\n",
            "Collecting configparser\n",
            "  Downloading configparser-5.0.2-py3-none-any.whl (19 kB)\n",
            "Collecting colorama\n",
            "  Downloading colorama-0.4.4-py2.py3-none-any.whl (16 kB)\n",
            "Requirement already satisfied: urllib3!=1.25.0,!=1.25.1,<1.26,>=1.21.1 in /usr/local/lib/python3.7/dist-packages (from requests->webdriver_manager) (1.24.3)\n",
            "Requirement already satisfied: idna<3,>=2.5 in /usr/local/lib/python3.7/dist-packages (from requests->webdriver_manager) (2.10)\n",
            "Requirement already satisfied: chardet<4,>=3.0.2 in /usr/local/lib/python3.7/dist-packages (from requests->webdriver_manager) (3.0.4)\n",
            "Requirement already satisfied: certifi>=2017.4.17 in /usr/local/lib/python3.7/dist-packages (from requests->webdriver_manager) (2021.5.30)\n",
            "Installing collected packages: colorama, crayons, configparser, webdriver-manager\n",
            "Successfully installed colorama-0.4.4 configparser-5.0.2 crayons-0.4.0 webdriver-manager-3.4.2\n",
            "Chromium, Driver and Selenium successfully started....\n",
            "CPU times: user 406 ms, sys: 80.9 ms, total: 487 ms\n",
            "Wall time: 39.6 s\n"
          ],
          "name": "stdout"
        }
      ]
    },
    {
      "cell_type": "code",
      "metadata": {
        "colab": {
          "base_uri": "https://localhost:8080/"
        },
        "id": "1pkS53hfZ_HD",
        "outputId": "86c5bba2-8cc4-4643-a32a-3c6f860b1bf4"
      },
      "source": [
        "%%time\n",
        "pmid_list_2020 = pull_pmid(2020, wd)"
      ],
      "execution_count": null,
      "outputs": [
        {
          "output_type": "stream",
          "text": [
            "CPU times: user 661 ms, sys: 31.8 ms, total: 692 ms\n",
            "Wall time: 9.81 s\n"
          ],
          "name": "stdout"
        }
      ]
    },
    {
      "cell_type": "code",
      "metadata": {
        "colab": {
          "base_uri": "https://localhost:8080/"
        },
        "id": "7hIvFCwEoi6N",
        "outputId": "c48ff365-642c-4584-85bb-422345481dd8"
      },
      "source": [
        "%%time \n",
        "pull_pmid_metadata(pmid_list_2020)"
      ],
      "execution_count": null,
      "outputs": [
        {
          "output_type": "stream",
          "text": [
            "['Lawrence Baker| Jason H Maley| Aldo Arévalo| Francis DeMichele| Roselyn Mateo-Collado| Stan Finkelstein| Leo Anthony Celi']\n",
            "['John Danziger| Miguel Ángel Armengol de la Hoz| Wenyuan Li| Matthieu Komorowski| Rodrigo Octávio Deliberato| Barret N M Rush| Kenneth J Mukamal| Leo Celi| Omar Badawi']\n",
            "['Marta Fernandes| Rúben Mendes| Susana M Vieira| Francisca Leite| Carlos Palos| Alistair Johnson| Stan Finkelstein| Steven Horng| Leo Anthony Celi']\n",
            "['Marta Fernandes| Rúben Mendes| Susana M Vieira| Francisca Leite| Carlos Palos| Alistair Johnson| Stan Finkelstein| Steven Horng| Leo Anthony Celi']\n",
            "['Yuan Lai| Wesley Yeung| Leo Anthony Celi']\n",
            "['Liam G McCoy| Sujay Nagaraj| Felipe Morgado| Vinyas Harish| Sunit Das| Leo Anthony Celi']\n",
            "['Stuart McLennan| Leo Anthony Celi| Alena Buyx']\n",
            "['Trishan Panch| Tom J Pollard| Heather Mattie| Emily Lindemer| Pearse A Keane| Leo Anthony Celi']\n",
            "['Wesley Yeung| Kennedy Ng| J M Nigel Fong| Judy Sng| Bee Choo Tai| Sin Eng Chia']\n",
            "CPU times: user 186 ms, sys: 75.6 ms, total: 262 ms\n",
            "Wall time: 10.2 s\n"
          ],
          "name": "stdout"
        }
      ]
    },
    {
      "cell_type": "code",
      "metadata": {
        "id": "hrPOHWbgFJzl",
        "colab": {
          "base_uri": "https://localhost:8080/"
        },
        "outputId": "ae131bef-b1ba-404a-f85f-77780830a76a"
      },
      "source": [
        "# Ignore below\n",
        "pmid_list_2020"
      ],
      "execution_count": null,
      "outputs": [
        {
          "output_type": "execute_result",
          "data": {
            "text/plain": [
              "[32612144,\n",
              " 31948262,\n",
              " 32126097,\n",
              " 32240233,\n",
              " 32248145,\n",
              " 32577533,\n",
              " 32449686,\n",
              " 32577534,\n",
              " 32432708]"
            ]
          },
          "metadata": {
            "tags": []
          },
          "execution_count": 12
        }
      ]
    },
    {
      "cell_type": "code",
      "metadata": {
        "id": "AFtmsvptg6y-"
      },
      "source": [
        "test = !$HOME/edirect/efetch -db pubmed -id 32612144 -format xml"
      ],
      "execution_count": null,
      "outputs": []
    },
    {
      "cell_type": "code",
      "metadata": {
        "id": "mNaPOPGKFPAS",
        "colab": {
          "base_uri": "https://localhost:8080/"
        },
        "outputId": "e688749d-0ae1-4823-ffb3-a102b2606b4a"
      },
      "source": [
        "test"
      ],
      "execution_count": null,
      "outputs": [
        {
          "output_type": "execute_result",
          "data": {
            "text/plain": [
              "['<?xml version=\"1.0\" encoding=\"UTF-8\" ?>',\n",
              " '<!DOCTYPE PubmedArticleSet>',\n",
              " '<PubmedArticleSet>',\n",
              " '  <PubmedArticle>',\n",
              " '    <MedlineCitation Status=\"MEDLINE\" Owner=\"NLM\">',\n",
              " '      <PMID Version=\"1\">32612144</PMID>',\n",
              " '      <DateCompleted>',\n",
              " '        <Year>2020</Year>',\n",
              " '        <Month>12</Month>',\n",
              " '        <Day>04</Day>',\n",
              " '      </DateCompleted>',\n",
              " '      <DateRevised>',\n",
              " '        <Year>2021</Year>',\n",
              " '        <Month>07</Month>',\n",
              " '        <Day>01</Day>',\n",
              " '      </DateRevised>',\n",
              " '      <Article PubModel=\"Electronic\">',\n",
              " '        <Journal>',\n",
              " '          <ISSN IssnType=\"Electronic\">2045-2322</ISSN>',\n",
              " '          <JournalIssue CitedMedium=\"Internet\">',\n",
              " '            <Volume>10</Volume>',\n",
              " '            <Issue>1</Issue>',\n",
              " '            <PubDate>',\n",
              " '              <Year>2020</Year>',\n",
              " '              <Month>07</Month>',\n",
              " '              <Day>01</Day>',\n",
              " '            </PubDate>',\n",
              " '          </JournalIssue>',\n",
              " '          <Title>Scientific reports</Title>',\n",
              " '          <ISOAbbreviation>Sci Rep</ISOAbbreviation>',\n",
              " '        </Journal>',\n",
              " '        <ArticleTitle>Real-world characterization of blood glucose control and insulin use in the intensive care unit.</ArticleTitle>',\n",
              " '        <Pagination>',\n",
              " '          <MedlinePgn>10718</MedlinePgn>',\n",
              " '        </Pagination>',\n",
              " '        <ELocationID EIdType=\"doi\" ValidYN=\"Y\">10.1038/s41598-020-67864-z</ELocationID>',\n",
              " '        <Abstract>',\n",
              " '          <AbstractText>The heterogeneity of critical illness complicates both clinical trial design and real-world management. This complexity has resulted in conflicting evidence and opinion regarding the optimal management in many intensive care scenarios. Understanding this heterogeneity is essential to tailoring management to individual patients. Hyperglycaemia is one such complication in the intensive care unit (ICU), accompanied by decades of conflicting evidence around management strategies. We hypothesized that analysis of highly-detailed electronic medical record (EMR) data would demonstrate that patients vary widely in their glycaemic response to critical illness and response to insulin therapy. Due to this variability, we believed that hyper- and hypoglycaemia would remain common in ICU care despite standardised approaches to management. We utilized the Medical Information Mart for Intensive Care III v1.4 (MIMIC) database. We identified 19,694 admissions between 2008 and 2012 with available glucose results and insulin administration data. We demonstrate that hyper- and hypoglycaemia are common at the time of admission and remain so 1 week into an ICU admission. Insulin treatment strategies vary significantly, irrespective of blood glucose level or diabetic status. We reveal a tremendous opportunity for EMR data to guide tailored management. Through this work, we have made available a highly-detailed data source for future investigation.</AbstractText>',\n",
              " '        </Abstract>',\n",
              " '        <AuthorList CompleteYN=\"Y\">',\n",
              " '          <Author ValidYN=\"Y\">',\n",
              " '            <LastName>Baker</LastName>',\n",
              " '            <ForeName>Lawrence</ForeName>',\n",
              " '            <Initials>L</Initials>',\n",
              " '            <AffiliationInfo>',\n",
              " '              <Affiliation>RAND Corporation, Santa Monica, CA, USA.</Affiliation>',\n",
              " '            </AffiliationInfo>',\n",
              " '          </Author>',\n",
              " '          <Author ValidYN=\"Y\">',\n",
              " '            <LastName>Maley</LastName>',\n",
              " '            <ForeName>Jason H</ForeName>',\n",
              " '            <Initials>JH</Initials>',\n",
              " '            <AffiliationInfo>',\n",
              " '              <Affiliation>Division of Pulmonary, Critical Care, and Sleep Medicine, Beth Israel Deaconess Medical Center, 330 Brookline Ave., Boston, MA, 02215, USA. jmaley@bidmc.harvard.edu.</Affiliation>',\n",
              " '            </AffiliationInfo>',\n",
              " '            <AffiliationInfo>',\n",
              " '              <Affiliation>Center for Healthcare Delivery Science, Beth Israel Deaconess Medical Center, Boston, MA, USA. jmaley@bidmc.harvard.edu.</Affiliation>',\n",
              " '            </AffiliationInfo>',\n",
              " '            <AffiliationInfo>',\n",
              " '              <Affiliation>Harvard Medical School, Boston, MA, USA. jmaley@bidmc.harvard.edu.</Affiliation>',\n",
              " '            </AffiliationInfo>',\n",
              " '          </Author>',\n",
              " '          <Author ValidYN=\"Y\">',\n",
              " '            <LastName>Arévalo</LastName>',\n",
              " '            <ForeName>Aldo</ForeName>',\n",
              " '            <Initials>A</Initials>',\n",
              " '            <AffiliationInfo>',\n",
              " '              <Affiliation>MIT Laboratory for Computational Physiology Harvard-MIT Division of Health Sciences and Technology, Cambridge, MA, USA.</Affiliation>',\n",
              " '            </AffiliationInfo>',\n",
              " '            <AffiliationInfo>',\n",
              " '              <Affiliation>IDMEC, Instituto Superior Técnico, University of Lisbon, Lisbon, Portugal.</Affiliation>',\n",
              " '            </AffiliationInfo>',\n",
              " '          </Author>',\n",
              " '          <Author ValidYN=\"Y\">',\n",
              " '            <LastName>DeMichele</LastName>',\n",
              " '            <ForeName>Francis</ForeName>',\n",
              " '            <Initials>F</Initials>',\n",
              " '            <Suffix>3rd</Suffix>',\n",
              " '            <AffiliationInfo>',\n",
              " '              <Affiliation>Landmark Health, Huntington Beach, CA, USA.</Affiliation>',\n",
              " '            </AffiliationInfo>',\n",
              " '          </Author>',\n",
              " '          <Author ValidYN=\"Y\">',\n",
              " '            <LastName>Mateo-Collado</LastName>',\n",
              " '            <ForeName>Roselyn</ForeName>',\n",
              " '            <Initials>R</Initials>',\n",
              " '            <AffiliationInfo>',\n",
              " '              <Affiliation>Division of Endocrinology and Metabolism, Rush University Medical Center, Chicago, IL, USA.</Affiliation>',\n",
              " '            </AffiliationInfo>',\n",
              " '          </Author>',\n",
              " '          <Author ValidYN=\"Y\">',\n",
              " '            <LastName>Finkelstein</LastName>',\n",
              " '            <ForeName>Stan</ForeName>',\n",
              " '            <Initials>S</Initials>',\n",
              " '            <AffiliationInfo>',\n",
              " '              <Affiliation>Harvard Medical School, Boston, MA, USA.</Affiliation>',\n",
              " '            </AffiliationInfo>',\n",
              " '          </Author>',\n",
              " '          <Author ValidYN=\"Y\">',\n",
              " '            <LastName>Celi</LastName>',\n",
              " '            <ForeName>Leo Anthony</ForeName>',\n",
              " '            <Initials>LA</Initials>',\n",
              " '            <AffiliationInfo>',\n",
              " '              <Affiliation>Division of Pulmonary, Critical Care, and Sleep Medicine, Beth Israel Deaconess Medical Center, 330 Brookline Ave., Boston, MA, 02215, USA.</Affiliation>',\n",
              " '            </AffiliationInfo>',\n",
              " '            <AffiliationInfo>',\n",
              " '              <Affiliation>Harvard Medical School, Boston, MA, USA.</Affiliation>',\n",
              " '            </AffiliationInfo>',\n",
              " '            <AffiliationInfo>',\n",
              " '              <Affiliation>MIT Laboratory for Computational Physiology Harvard-MIT Division of Health Sciences and Technology, Cambridge, MA, USA.</Affiliation>',\n",
              " '            </AffiliationInfo>',\n",
              " '          </Author>',\n",
              " '        </AuthorList>',\n",
              " '        <Language>eng</Language>',\n",
              " '        <GrantList CompleteYN=\"Y\">',\n",
              " '          <Grant>',\n",
              " '            <GrantID>R01 DE017205</GrantID>',\n",
              " '            <Acronym>DE</Acronym>',\n",
              " '            <Agency>NIDCR NIH HHS</Agency>',\n",
              " '            <Country>United States</Country>',\n",
              " '          </Grant>',\n",
              " '          <Grant>',\n",
              " '            <GrantID>R01 EB017205</GrantID>',\n",
              " '            <Acronym>EB</Acronym>',\n",
              " '            <Agency>NIBIB NIH HHS</Agency>',\n",
              " '            <Country>United States</Country>',\n",
              " '          </Grant>',\n",
              " '          <Grant>',\n",
              " '            <GrantID>R01 EY017205</GrantID>',\n",
              " '            <Acronym>EY</Acronym>',\n",
              " '            <Agency>NEI NIH HHS</Agency>',\n",
              " '            <Country>United States</Country>',\n",
              " '          </Grant>',\n",
              " '        </GrantList>',\n",
              " '        <PublicationTypeList>',\n",
              " '          <PublicationType UI=\"D016428\">Journal Article</PublicationType>',\n",
              " '          <PublicationType UI=\"D052061\">Research Support, N.I.H., Extramural</PublicationType>',\n",
              " '          <PublicationType UI=\"D013485\">Research Support, Non-U.S. Gov\\'t</PublicationType>',\n",
              " '        </PublicationTypeList>',\n",
              " '        <ArticleDate DateType=\"Electronic\">',\n",
              " '          <Year>2020</Year>',\n",
              " '          <Month>07</Month>',\n",
              " '          <Day>01</Day>',\n",
              " '        </ArticleDate>',\n",
              " '      </Article>',\n",
              " '      <MedlineJournalInfo>',\n",
              " '        <Country>England</Country>',\n",
              " '        <MedlineTA>Sci Rep</MedlineTA>',\n",
              " '        <NlmUniqueID>101563288</NlmUniqueID>',\n",
              " '        <ISSNLinking>2045-2322</ISSNLinking>',\n",
              " '      </MedlineJournalInfo>',\n",
              " '      <ChemicalList>',\n",
              " '        <Chemical>',\n",
              " '          <RegistryNumber>0</RegistryNumber>',\n",
              " '          <NameOfSubstance UI=\"D015415\">Biomarkers</NameOfSubstance>',\n",
              " '        </Chemical>',\n",
              " '        <Chemical>',\n",
              " '          <RegistryNumber>0</RegistryNumber>',\n",
              " '          <NameOfSubstance UI=\"D001786\">Blood Glucose</NameOfSubstance>',\n",
              " '        </Chemical>',\n",
              " '        <Chemical>',\n",
              " '          <RegistryNumber>0</RegistryNumber>',\n",
              " '          <NameOfSubstance UI=\"D006442\">Glycated Hemoglobin A</NameOfSubstance>',\n",
              " '        </Chemical>',\n",
              " '        <Chemical>',\n",
              " '          <RegistryNumber>0</RegistryNumber>',\n",
              " '          <NameOfSubstance UI=\"D007004\">Hypoglycemic Agents</NameOfSubstance>',\n",
              " '        </Chemical>',\n",
              " '        <Chemical>',\n",
              " '          <RegistryNumber>0</RegistryNumber>',\n",
              " '          <NameOfSubstance UI=\"D007328\">Insulin</NameOfSubstance>',\n",
              " '        </Chemical>',\n",
              " '        <Chemical>',\n",
              " '          <RegistryNumber>0</RegistryNumber>',\n",
              " '          <NameOfSubstance UI=\"C517652\">hemoglobin A1c protein, human</NameOfSubstance>',\n",
              " '        </Chemical>',\n",
              " '      </ChemicalList>',\n",
              " '      <CitationSubset>IM</CitationSubset>',\n",
              " '      <MeshHeadingList>',\n",
              " '        <MeshHeading>',\n",
              " '          <DescriptorName UI=\"D000368\" MajorTopicYN=\"N\">Aged</DescriptorName>',\n",
              " '        </MeshHeading>',\n",
              " '        <MeshHeading>',\n",
              " '          <DescriptorName UI=\"D015415\" MajorTopicYN=\"N\">Biomarkers</DescriptorName>',\n",
              " '          <QualifierName UI=\"Q000097\" MajorTopicYN=\"Y\">blood</QualifierName>',\n",
              " '        </MeshHeading>',\n",
              " '        <MeshHeading>',\n",
              " '          <DescriptorName UI=\"D001786\" MajorTopicYN=\"N\">Blood Glucose</DescriptorName>',\n",
              " '          <QualifierName UI=\"Q000032\" MajorTopicYN=\"Y\">analysis</QualifierName>',\n",
              " '        </MeshHeading>',\n",
              " '        <MeshHeading>',\n",
              " '          <DescriptorName UI=\"D016638\" MajorTopicYN=\"N\">Critical Illness</DescriptorName>',\n",
              " '          <QualifierName UI=\"Q000628\" MajorTopicYN=\"Y\">therapy</QualifierName>',\n",
              " '        </MeshHeading>',\n",
              " '        <MeshHeading>',\n",
              " '          <DescriptorName UI=\"D005260\" MajorTopicYN=\"N\">Female</DescriptorName>',\n",
              " '        </MeshHeading>',\n",
              " '        <MeshHeading>',\n",
              " '          <DescriptorName UI=\"D005500\" MajorTopicYN=\"N\">Follow-Up Studies</DescriptorName>',\n",
              " '        </MeshHeading>',\n",
              " '        <MeshHeading>',\n",
              " '          <DescriptorName UI=\"D006442\" MajorTopicYN=\"N\">Glycated Hemoglobin A</DescriptorName>',\n",
              " '          <QualifierName UI=\"Q000032\" MajorTopicYN=\"N\">analysis</QualifierName>',\n",
              " '        </MeshHeading>',\n",
              " '        <MeshHeading>',\n",
              " '          <DescriptorName UI=\"D006801\" MajorTopicYN=\"N\">Humans</DescriptorName>',\n",
              " '        </MeshHeading>',\n",
              " '        <MeshHeading>',\n",
              " '          <DescriptorName UI=\"D006943\" MajorTopicYN=\"N\">Hyperglycemia</DescriptorName>',\n",
              " '          <QualifierName UI=\"Q000209\" MajorTopicYN=\"N\">etiology</QualifierName>',\n",
              " '          <QualifierName UI=\"Q000378\" MajorTopicYN=\"N\">metabolism</QualifierName>',\n",
              " '          <QualifierName UI=\"Q000517\" MajorTopicYN=\"Y\">prevention &amp; control</QualifierName>',\n",
              " '        </MeshHeading>',\n",
              " '        <MeshHeading>',\n",
              " '          <DescriptorName UI=\"D007003\" MajorTopicYN=\"N\">Hypoglycemia</DescriptorName>',\n",
              " '          <QualifierName UI=\"Q000209\" MajorTopicYN=\"N\">etiology</QualifierName>',\n",
              " '          <QualifierName UI=\"Q000378\" MajorTopicYN=\"N\">metabolism</QualifierName>',\n",
              " '          <QualifierName UI=\"Q000517\" MajorTopicYN=\"Y\">prevention &amp; control</QualifierName>',\n",
              " '        </MeshHeading>',\n",
              " '        <MeshHeading>',\n",
              " '          <DescriptorName UI=\"D007004\" MajorTopicYN=\"N\">Hypoglycemic Agents</DescriptorName>',\n",
              " '          <QualifierName UI=\"Q000627\" MajorTopicYN=\"Y\">therapeutic use</QualifierName>',\n",
              " '        </MeshHeading>',\n",
              " '        <MeshHeading>',\n",
              " '          <DescriptorName UI=\"D007328\" MajorTopicYN=\"N\">Insulin</DescriptorName>',\n",
              " '          <QualifierName UI=\"Q000627\" MajorTopicYN=\"Y\">therapeutic use</QualifierName>',\n",
              " '        </MeshHeading>',\n",
              " '        <MeshHeading>',\n",
              " '          <DescriptorName UI=\"D008297\" MajorTopicYN=\"N\">Male</DescriptorName>',\n",
              " '        </MeshHeading>',\n",
              " '        <MeshHeading>',\n",
              " '          <DescriptorName UI=\"D011379\" MajorTopicYN=\"N\">Prognosis</DescriptorName>',\n",
              " '        </MeshHeading>',\n",
              " '        <MeshHeading>',\n",
              " '          <DescriptorName UI=\"D012189\" MajorTopicYN=\"N\">Retrospective Studies</DescriptorName>',\n",
              " '        </MeshHeading>',\n",
              " '      </MeshHeadingList>',\n",
              " '    </MedlineCitation>',\n",
              " '    <PubmedData>',\n",
              " '      <History>',\n",
              " '        <PubMedPubDate PubStatus=\"received\">',\n",
              " '          <Year>2020</Year>',\n",
              " '          <Month>01</Month>',\n",
              " '          <Day>21</Day>',\n",
              " '        </PubMedPubDate>',\n",
              " '        <PubMedPubDate PubStatus=\"accepted\">',\n",
              " '          <Year>2020</Year>',\n",
              " '          <Month>06</Month>',\n",
              " '          <Day>09</Day>',\n",
              " '        </PubMedPubDate>',\n",
              " '        <PubMedPubDate PubStatus=\"entrez\">',\n",
              " '          <Year>2020</Year>',\n",
              " '          <Month>7</Month>',\n",
              " '          <Day>3</Day>',\n",
              " '          <Hour>6</Hour>',\n",
              " '          <Minute>0</Minute>',\n",
              " '        </PubMedPubDate>',\n",
              " '        <PubMedPubDate PubStatus=\"pubmed\">',\n",
              " '          <Year>2020</Year>',\n",
              " '          <Month>7</Month>',\n",
              " '          <Day>3</Day>',\n",
              " '          <Hour>6</Hour>',\n",
              " '          <Minute>0</Minute>',\n",
              " '        </PubMedPubDate>',\n",
              " '        <PubMedPubDate PubStatus=\"medline\">',\n",
              " '          <Year>2020</Year>',\n",
              " '          <Month>12</Month>',\n",
              " '          <Day>15</Day>',\n",
              " '          <Hour>6</Hour>',\n",
              " '          <Minute>0</Minute>',\n",
              " '        </PubMedPubDate>',\n",
              " '      </History>',\n",
              " '      <PublicationStatus>epublish</PublicationStatus>',\n",
              " '      <ArticleIdList>',\n",
              " '        <ArticleId IdType=\"pubmed\">32612144</ArticleId>',\n",
              " '        <ArticleId IdType=\"doi\">10.1038/s41598-020-67864-z</ArticleId>',\n",
              " '        <ArticleId IdType=\"pii\">10.1038/s41598-020-67864-z</ArticleId>',\n",
              " '        <ArticleId IdType=\"pmc\">PMC7329880</ArticleId>',\n",
              " '      </ArticleIdList>',\n",
              " '      <ReferenceList>',\n",
              " '        <Reference>',\n",
              " '          <Citation>Calfee, C. S. et al. Subphenotypes in acute respiratory distress syndrome: latent class analysis of data from two randomised controlled trials. Lancet Respir. Med. 2, 611–620 (2014).</Citation>',\n",
              " '          <ArticleIdList>',\n",
              " '            <ArticleId IdType=\"doi\">10.1016/S2213-2600(14)70097-9</ArticleId>',\n",
              " '          </ArticleIdList>',\n",
              " '        </Reference>',\n",
              " '        <Reference>',\n",
              " '          <Citation>Seymour, C. W. et al. Derivation, validation, and potential treatment implications of novel clinical phenotypes for sepsis. JAMA 321, 2003–2017 (2019).</Citation>',\n",
              " '          <ArticleIdList>',\n",
              " '            <ArticleId IdType=\"doi\">10.1001/jama.2019.5791</ArticleId>',\n",
              " '          </ArticleIdList>',\n",
              " '        </Reference>',\n",
              " '        <Reference>',\n",
              " '          <Citation>Famous, K. R. et al. Acute respiratory distress syndrome subphenotypes respond differently to randomized fluid management strategy. Am. J. Respir. Crit. Care Med. 195, 331–338 (2017).</Citation>',\n",
              " '          <ArticleIdList>',\n",
              " '            <ArticleId IdType=\"doi\">10.1164/rccm.201603-0645OC</ArticleId>',\n",
              " '          </ArticleIdList>',\n",
              " '        </Reference>',\n",
              " '        <Reference>',\n",
              " '          <Citation>Prescott, H. C., Calfee, C. S., Thompson, B. T., Angus, D. C. &amp; Liu, V. X. Toward smarter lumping and smarter splitting: rethinking strategies for sepsis and acute respiratory distress syndrome clinical trial design. Am. J. Respir. Crit. Care Med. 194, 147–155 (2016).</Citation>',\n",
              " '          <ArticleIdList>',\n",
              " '            <ArticleId IdType=\"doi\">10.1164/rccm.201512-2544CP</ArticleId>',\n",
              " '          </ArticleIdList>',\n",
              " '        </Reference>',\n",
              " '        <Reference>',\n",
              " '          <Citation>Capes, S. E., Hunt, D., Malmberg, K. &amp; Gerstein, H. C. Stress hyperglycaemia and increased risk of death after myocardial infarction in patients with and without diabetes: a systematic overview. Lancet 355, 773–778 (2000).</Citation>',\n",
              " '          <ArticleIdList>',\n",
              " '            <ArticleId IdType=\"doi\">10.1016/S0140-6736(99)08415-9</ArticleId>',\n",
              " '          </ArticleIdList>',\n",
              " '        </Reference>',\n",
              " '        <Reference>',\n",
              " '          <Citation>Bekes, C. Poor glycemic control Is associated with increased mortality in critically ill trauma patients. Yearb. Crit. Care Med. 2008, 213–215 (2008).</Citation>',\n",
              " '          <ArticleIdList>',\n",
              " '            <ArticleId IdType=\"doi\">10.1016/S0734-3299(08)70583-5</ArticleId>',\n",
              " '          </ArticleIdList>',\n",
              " '        </Reference>',\n",
              " '        <Reference>',\n",
              " '          <Citation>Krinsley, J. S. Association between hyperglycemia and increased hospital mortality in a heterogeneous population of critically ill patients. Mayo Clin. Proc. 78, 1471–1478 (2003).</Citation>',\n",
              " '          <ArticleIdList>',\n",
              " '            <ArticleId IdType=\"doi\">10.4065/78.12.1471</ArticleId>',\n",
              " '          </ArticleIdList>',\n",
              " '        </Reference>',\n",
              " '        <Reference>',\n",
              " '          <Citation>Van den Berghe, G. et al. Intensive insulin therapy in critically ill patients. N. Engl. J. Med. 345, 1359–1367 (2001).</Citation>',\n",
              " '          <ArticleIdList>',\n",
              " '            <ArticleId IdType=\"doi\">10.1056/NEJMoa011300</ArticleId>',\n",
              " '          </ArticleIdList>',\n",
              " '        </Reference>',\n",
              " '        <Reference>',\n",
              " '          <Citation>Van den Berghe, G. et al. Intensive insulin therapy in the medical ICU. N. Engl. J. Med. 354, 449–461 (2006).</Citation>',\n",
              " '          <ArticleIdList>',\n",
              " '            <ArticleId IdType=\"doi\">10.1056/NEJMoa052521</ArticleId>',\n",
              " '          </ArticleIdList>',\n",
              " '        </Reference>',\n",
              " '        <Reference>',\n",
              " '          <Citation>NICE-SUGAR Study Investigators et al. Intensive versus conventional glucose control in critically ill patients. N. Engl. J. Med. 360, 1283–1297 (2009).</Citation>',\n",
              " '          <ArticleIdList>',\n",
              " '            <ArticleId IdType=\"doi\">10.1056/NEJMoa0810625</ArticleId>',\n",
              " '          </ArticleIdList>',\n",
              " '        </Reference>',\n",
              " '        <Reference>',\n",
              " '          <Citation>Krinsley, J. S. &amp; Grover, A. Severe hypoglycemia in critically ill patients: risk factors and outcomes. Crit. Care Med. 35, 2262–2267 (2007).</Citation>',\n",
              " '          <ArticleIdList>',\n",
              " '            <ArticleId IdType=\"doi\">10.1097/01.CCM.0000282073.98414.4B</ArticleId>',\n",
              " '          </ArticleIdList>',\n",
              " '        </Reference>',\n",
              " '        <Reference>',\n",
              " '          <Citation>Safi, S. &amp; White, A. The efficiency of OLS in the presence of auto-correlated disturbances in regression models. J. Mod. Appl. Stat. Methods 5, 107–117 (2006).</Citation>',\n",
              " '          <ArticleIdList>',\n",
              " '            <ArticleId IdType=\"doi\">10.22237/jmasm/1146456540</ArticleId>',\n",
              " '          </ArticleIdList>',\n",
              " '        </Reference>',\n",
              " '        <Reference>',\n",
              " '          <Citation>Johnson, A. E. W. et al. MIMIC-III, a freely accessible critical care database. Sci. Data 3, 160035 (2016).</Citation>',\n",
              " '          <ArticleIdList>',\n",
              " '            <ArticleId IdType=\"doi\">10.1038/sdata.2016.35</ArticleId>',\n",
              " '          </ArticleIdList>',\n",
              " '        </Reference>',\n",
              " '        <Reference>',\n",
              " '          <Citation>Pollard, T. J. &amp; Johnson, A. E. The MIMIC-III Clinical Database (accessed 2018); https://doi.org/10.13026/C2XW26 (2016).</Citation>',\n",
              " '        </Reference>',\n",
              " '        <Reference>',\n",
              " '          <Citation>Johnson, A. E., Stone, D. J., Celi, L. A. &amp; Pollard, T. J. The MIMIC code repository: enabling reproducibility in critical care research. J. Am. Med. Inform. Assoc. 25, 32–39 (2018).</Citation>',\n",
              " '          <ArticleIdList>',\n",
              " '            <ArticleId IdType=\"doi\">10.1093/jamia/ocx084</ArticleId>',\n",
              " '          </ArticleIdList>',\n",
              " '        </Reference>',\n",
              " '        <Reference>',\n",
              " '          <Citation>Pollard, T. MIT-LCP/mimic-code: MIMIC-III v1.4 (Version v1.4) (accessed 2018); https://doi.org/10.5281/zenodo.821872 (2017).</Citation>',\n",
              " '        </Reference>',\n",
              " '      </ReferenceList>',\n",
              " '    </PubmedData>',\n",
              " '  </PubmedArticle>',\n",
              " '</PubmedArticleSet>']"
            ]
          },
          "metadata": {
            "tags": []
          },
          "execution_count": 22
        }
      ]
    },
    {
      "cell_type": "code",
      "metadata": {
        "id": "AksO-HpeFVwN",
        "colab": {
          "base_uri": "https://localhost:8080/"
        },
        "outputId": "f7c25a5c-2c70-4f98-c691-4c123abb6f9e"
      },
      "source": [
        "!$HOME/edirect/efetch -db pubmed -id 32612144 -format xml | $HOME/edirect/xtract -pattern PubmedArticle -block DateCompleted -sep \" | \" -element Year,Month,Day"
      ],
      "execution_count": null,
      "outputs": [
        {
          "output_type": "stream",
          "text": [
            "2020 | 12 | 04\r\n"
          ],
          "name": "stdout"
        }
      ]
    },
    {
      "cell_type": "code",
      "metadata": {
        "id": "mZ5gxN15XJQk",
        "colab": {
          "base_uri": "https://localhost:8080/"
        },
        "outputId": "42278f8e-55f1-4aff-ef36-9a57a6825144"
      },
      "source": [
        "!$HOME/edirect/efetch -db pubmed -id 32612144 -format xml | $HOME/edirect/xtract -pattern PubmedArticle -tab \"|\" -def \"NULL\" -sep \",\" -element MedlineCitation/PMID ArticleTitle -block Author -tab \",\" -sep \" \" -element ForeName,LastName"
      ],
      "execution_count": null,
      "outputs": [
        {
          "output_type": "stream",
          "text": [
            "32612144|Real-world characterization of blood glucose control and insulin use in the intensive care unit.|Lawrence Baker,Jason H Maley,Aldo Arévalo,Francis DeMichele,Roselyn Mateo-Collado,Stan Finkelstein,Leo Anthony Celi\r\n"
          ],
          "name": "stdout"
        }
      ]
    },
    {
      "cell_type": "code",
      "metadata": {
        "id": "1AsOly0VGRSj",
        "colab": {
          "base_uri": "https://localhost:8080/",
          "height": 341
        },
        "outputId": "cc7d8113-976f-4aed-af31-010c43d71462"
      },
      "source": [
        "from xml.dom import minidom\n",
        "# https://stackabuse.com/reading-and-writing-xml-files-in-python\n",
        "a = !$HOME/edirect/efetch -db pubmed -id 32612144 -format xml\n",
        "mydoc = minidom.parse(a)"
      ],
      "execution_count": null,
      "outputs": [
        {
          "output_type": "error",
          "ename": "AttributeError",
          "evalue": "ignored",
          "traceback": [
            "\u001b[0;31m---------------------------------------------------------------------------\u001b[0m",
            "\u001b[0;31mAttributeError\u001b[0m                            Traceback (most recent call last)",
            "\u001b[0;32m<ipython-input-37-1cdee968aa7b>\u001b[0m in \u001b[0;36m<module>\u001b[0;34m()\u001b[0m\n\u001b[1;32m      2\u001b[0m \u001b[0;31m# https://stackabuse.com/reading-and-writing-xml-files-in-python\u001b[0m\u001b[0;34m\u001b[0m\u001b[0;34m\u001b[0m\u001b[0;34m\u001b[0m\u001b[0m\n\u001b[1;32m      3\u001b[0m \u001b[0ma\u001b[0m \u001b[0;34m=\u001b[0m \u001b[0mget_ipython\u001b[0m\u001b[0;34m(\u001b[0m\u001b[0;34m)\u001b[0m\u001b[0;34m.\u001b[0m\u001b[0mgetoutput\u001b[0m\u001b[0;34m(\u001b[0m\u001b[0;34m'$HOME/edirect/efetch -db pubmed -id 32612144 -format xml'\u001b[0m\u001b[0;34m)\u001b[0m\u001b[0;34m\u001b[0m\u001b[0;34m\u001b[0m\u001b[0m\n\u001b[0;32m----> 4\u001b[0;31m \u001b[0mmydoc\u001b[0m \u001b[0;34m=\u001b[0m \u001b[0mminidom\u001b[0m\u001b[0;34m.\u001b[0m\u001b[0mparse\u001b[0m\u001b[0;34m(\u001b[0m\u001b[0ma\u001b[0m\u001b[0;34m)\u001b[0m\u001b[0;34m\u001b[0m\u001b[0;34m\u001b[0m\u001b[0m\n\u001b[0m",
            "\u001b[0;32m/usr/lib/python3.7/xml/dom/minidom.py\u001b[0m in \u001b[0;36mparse\u001b[0;34m(file, parser, bufsize)\u001b[0m\n\u001b[1;32m   1956\u001b[0m     \u001b[0;32mif\u001b[0m \u001b[0mparser\u001b[0m \u001b[0;32mis\u001b[0m \u001b[0;32mNone\u001b[0m \u001b[0;32mand\u001b[0m \u001b[0;32mnot\u001b[0m \u001b[0mbufsize\u001b[0m\u001b[0;34m:\u001b[0m\u001b[0;34m\u001b[0m\u001b[0;34m\u001b[0m\u001b[0m\n\u001b[1;32m   1957\u001b[0m         \u001b[0;32mfrom\u001b[0m \u001b[0mxml\u001b[0m\u001b[0;34m.\u001b[0m\u001b[0mdom\u001b[0m \u001b[0;32mimport\u001b[0m \u001b[0mexpatbuilder\u001b[0m\u001b[0;34m\u001b[0m\u001b[0;34m\u001b[0m\u001b[0m\n\u001b[0;32m-> 1958\u001b[0;31m         \u001b[0;32mreturn\u001b[0m \u001b[0mexpatbuilder\u001b[0m\u001b[0;34m.\u001b[0m\u001b[0mparse\u001b[0m\u001b[0;34m(\u001b[0m\u001b[0mfile\u001b[0m\u001b[0;34m)\u001b[0m\u001b[0;34m\u001b[0m\u001b[0;34m\u001b[0m\u001b[0m\n\u001b[0m\u001b[1;32m   1959\u001b[0m     \u001b[0;32melse\u001b[0m\u001b[0;34m:\u001b[0m\u001b[0;34m\u001b[0m\u001b[0;34m\u001b[0m\u001b[0m\n\u001b[1;32m   1960\u001b[0m         \u001b[0;32mfrom\u001b[0m \u001b[0mxml\u001b[0m\u001b[0;34m.\u001b[0m\u001b[0mdom\u001b[0m \u001b[0;32mimport\u001b[0m \u001b[0mpulldom\u001b[0m\u001b[0;34m\u001b[0m\u001b[0;34m\u001b[0m\u001b[0m\n",
            "\u001b[0;32m/usr/lib/python3.7/xml/dom/expatbuilder.py\u001b[0m in \u001b[0;36mparse\u001b[0;34m(file, namespaces)\u001b[0m\n\u001b[1;32m    911\u001b[0m             \u001b[0mresult\u001b[0m \u001b[0;34m=\u001b[0m \u001b[0mbuilder\u001b[0m\u001b[0;34m.\u001b[0m\u001b[0mparseFile\u001b[0m\u001b[0;34m(\u001b[0m\u001b[0mfp\u001b[0m\u001b[0;34m)\u001b[0m\u001b[0;34m\u001b[0m\u001b[0;34m\u001b[0m\u001b[0m\n\u001b[1;32m    912\u001b[0m     \u001b[0;32melse\u001b[0m\u001b[0;34m:\u001b[0m\u001b[0;34m\u001b[0m\u001b[0;34m\u001b[0m\u001b[0m\n\u001b[0;32m--> 913\u001b[0;31m         \u001b[0mresult\u001b[0m \u001b[0;34m=\u001b[0m \u001b[0mbuilder\u001b[0m\u001b[0;34m.\u001b[0m\u001b[0mparseFile\u001b[0m\u001b[0;34m(\u001b[0m\u001b[0mfile\u001b[0m\u001b[0;34m)\u001b[0m\u001b[0;34m\u001b[0m\u001b[0;34m\u001b[0m\u001b[0m\n\u001b[0m\u001b[1;32m    914\u001b[0m     \u001b[0;32mreturn\u001b[0m \u001b[0mresult\u001b[0m\u001b[0;34m\u001b[0m\u001b[0;34m\u001b[0m\u001b[0m\n\u001b[1;32m    915\u001b[0m \u001b[0;34m\u001b[0m\u001b[0m\n",
            "\u001b[0;32m/usr/lib/python3.7/xml/dom/expatbuilder.py\u001b[0m in \u001b[0;36mparseFile\u001b[0;34m(self, file)\u001b[0m\n\u001b[1;32m    202\u001b[0m         \u001b[0;32mtry\u001b[0m\u001b[0;34m:\u001b[0m\u001b[0;34m\u001b[0m\u001b[0;34m\u001b[0m\u001b[0m\n\u001b[1;32m    203\u001b[0m             \u001b[0;32mwhile\u001b[0m \u001b[0;36m1\u001b[0m\u001b[0;34m:\u001b[0m\u001b[0;34m\u001b[0m\u001b[0;34m\u001b[0m\u001b[0m\n\u001b[0;32m--> 204\u001b[0;31m                 \u001b[0mbuffer\u001b[0m \u001b[0;34m=\u001b[0m \u001b[0mfile\u001b[0m\u001b[0;34m.\u001b[0m\u001b[0mread\u001b[0m\u001b[0;34m(\u001b[0m\u001b[0;36m16\u001b[0m\u001b[0;34m*\u001b[0m\u001b[0;36m1024\u001b[0m\u001b[0;34m)\u001b[0m\u001b[0;34m\u001b[0m\u001b[0;34m\u001b[0m\u001b[0m\n\u001b[0m\u001b[1;32m    205\u001b[0m                 \u001b[0;32mif\u001b[0m \u001b[0;32mnot\u001b[0m \u001b[0mbuffer\u001b[0m\u001b[0;34m:\u001b[0m\u001b[0;34m\u001b[0m\u001b[0;34m\u001b[0m\u001b[0m\n\u001b[1;32m    206\u001b[0m                     \u001b[0;32mbreak\u001b[0m\u001b[0;34m\u001b[0m\u001b[0;34m\u001b[0m\u001b[0m\n",
            "\u001b[0;31mAttributeError\u001b[0m: 'SList' object has no attribute 'read'"
          ]
        }
      ]
    },
    {
      "cell_type": "code",
      "metadata": {
        "id": "uNEI41kKJvph",
        "colab": {
          "base_uri": "https://localhost:8080/"
        },
        "outputId": "f4f21dcb-7eb5-49b8-9fb3-c4c071601a05"
      },
      "source": [
        "type(a)"
      ],
      "execution_count": null,
      "outputs": [
        {
          "output_type": "execute_result",
          "data": {
            "text/plain": [
              "IPython.utils.text.SList"
            ]
          },
          "metadata": {
            "tags": []
          },
          "execution_count": 38
        }
      ]
    },
    {
      "cell_type": "code",
      "metadata": {
        "id": "o-xXCOBUKFJa"
      },
      "source": [
        ""
      ],
      "execution_count": null,
      "outputs": []
    }
  ]
}